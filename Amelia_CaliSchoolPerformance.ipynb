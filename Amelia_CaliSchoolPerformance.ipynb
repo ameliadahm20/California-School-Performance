{
 "cells": [
  {
   "cell_type": "markdown",
   "metadata": {},
   "source": [
    "# California Public Schools: Meeting ELA Standards\n",
    "#### Project Description"
   ]
  },
  {
   "cell_type": "code",
   "execution_count": 1,
   "metadata": {},
   "outputs": [],
   "source": [
    "# Import Libraries\n",
    "import pandas as pd\n",
    "%matplotlib inline\n",
    "import matplotlib.pyplot as plt\n",
    "\n",
    "import seaborn as sns\n",
    "import numpy as np\n",
    "\n",
    "\n",
    "from sklearn.preprocessing import StandardScaler\n",
    "from sklearn.model_selection import train_test_split\n",
    "from sklearn.model_selection import cross_val_score\n",
    "from sklearn.model_selection import cross_validate\n",
    "from sklearn import metrics\n",
    "from sklearn.metrics import make_scorer, accuracy_score\n",
    "from sklearn.utils import resample\n",
    "from imblearn.over_sampling import SMOTE\n",
    "# mdoels\n",
    "from sklearn.linear_model import LogisticRegression\n",
    "from sklearn.neighbors import KNeighborsClassifier\n",
    "from sklearn.feature_selection import SelectKBest, f_regression,mutual_info_regression\n",
    "from sklearn.tree import DecisionTreeClassifier\n",
    "from sklearn.model_selection import GridSearchCV\n",
    "from sklearn.ensemble import RandomForestClassifier\n",
    "from sklearn.ensemble import VotingClassifier\n",
    "from sklearn.ensemble import BaggingClassifier\n",
    "\n",
    "import warnings; warnings.simplefilter('ignore')"
   ]
  },
  {
   "cell_type": "markdown",
   "metadata": {},
   "source": [
    "## Import Dataset"
   ]
  },
  {
   "cell_type": "code",
   "execution_count": 2,
   "metadata": {},
   "outputs": [
    {
     "data": {
      "text/plain": [
       "(944, 63)"
      ]
     },
     "execution_count": 2,
     "metadata": {},
     "output_type": "execute_result"
    }
   ],
   "source": [
    "df = pd.read_csv('data/California_School_District_Areas_2018-19.csv')\n",
    "pd.set_option('display.max_columns', None)\n",
    "df.drop(columns=['OBJECTID', 'Year', 'FedID', 'CDCode', 'CDSCode', 'UpdateNotes'], inplace=True)\n",
    "df.shape"
   ]
  },
  {
   "cell_type": "code",
   "execution_count": 3,
   "metadata": {},
   "outputs": [
    {
     "data": {
      "text/html": [
       "<div>\n",
       "<style scoped>\n",
       "    .dataframe tbody tr th:only-of-type {\n",
       "        vertical-align: middle;\n",
       "    }\n",
       "\n",
       "    .dataframe tbody tr th {\n",
       "        vertical-align: top;\n",
       "    }\n",
       "\n",
       "    .dataframe thead th {\n",
       "        text-align: right;\n",
       "    }\n",
       "</style>\n",
       "<table border=\"1\" class=\"dataframe\">\n",
       "  <thead>\n",
       "    <tr style=\"text-align: right;\">\n",
       "      <th></th>\n",
       "      <th>CountyName</th>\n",
       "      <th>DistrictName</th>\n",
       "      <th>DistrictType</th>\n",
       "      <th>GradeLow</th>\n",
       "      <th>GradeHigh</th>\n",
       "      <th>GradeLowCensus</th>\n",
       "      <th>GradeHighCensus</th>\n",
       "      <th>AssistStatus</th>\n",
       "      <th>CongressUS</th>\n",
       "      <th>SenateCA</th>\n",
       "      <th>AssemblyCA</th>\n",
       "      <th>LocaleDistrict</th>\n",
       "      <th>EnrollTotal</th>\n",
       "      <th>EnrollCharter</th>\n",
       "      <th>EnrollNonCharter</th>\n",
       "      <th>AAcount</th>\n",
       "      <th>AApct</th>\n",
       "      <th>AIcount</th>\n",
       "      <th>AIpct</th>\n",
       "      <th>AScount</th>\n",
       "      <th>ASpct</th>\n",
       "      <th>FIcount</th>\n",
       "      <th>FIpct</th>\n",
       "      <th>HIcount</th>\n",
       "      <th>HIpct</th>\n",
       "      <th>MRcount</th>\n",
       "      <th>MRpct</th>\n",
       "      <th>PIcount</th>\n",
       "      <th>PIpct</th>\n",
       "      <th>WHcount</th>\n",
       "      <th>WHpct</th>\n",
       "      <th>NRcount</th>\n",
       "      <th>NRpct</th>\n",
       "      <th>ELcount</th>\n",
       "      <th>ELpct</th>\n",
       "      <th>FOScount</th>\n",
       "      <th>FOSpct</th>\n",
       "      <th>HOMcount</th>\n",
       "      <th>HOMpct</th>\n",
       "      <th>MIGcount</th>\n",
       "      <th>MIGpct</th>\n",
       "      <th>SWDcount</th>\n",
       "      <th>SWDpct</th>\n",
       "      <th>SEDcount</th>\n",
       "      <th>SEDpct</th>\n",
       "      <th>UPcount</th>\n",
       "      <th>UPpct</th>\n",
       "      <th>ELATested</th>\n",
       "      <th>ELAStdMetPct</th>\n",
       "      <th>MathTested</th>\n",
       "      <th>MathStdMetPct</th>\n",
       "      <th>CCPrepCohortCount</th>\n",
       "      <th>CCPrepPct</th>\n",
       "      <th>AbsentEligCount</th>\n",
       "      <th>AbsentPct</th>\n",
       "      <th>GradCohortCount</th>\n",
       "      <th>GradPct</th>\n",
       "      <th>UCCSUReqMetPct</th>\n",
       "      <th>DropOutPct</th>\n",
       "      <th>EnrollCumulative</th>\n",
       "      <th>SuspPct</th>\n",
       "      <th>SHAPE_Length</th>\n",
       "      <th>SHAPE_Area</th>\n",
       "    </tr>\n",
       "  </thead>\n",
       "  <tbody>\n",
       "    <tr>\n",
       "      <th>0</th>\n",
       "      <td>Alameda</td>\n",
       "      <td>Alameda Unified</td>\n",
       "      <td>Unified</td>\n",
       "      <td>KG</td>\n",
       "      <td>12</td>\n",
       "      <td>KG</td>\n",
       "      <td>12</td>\n",
       "      <td>Differentiated Assistance</td>\n",
       "      <td>13</td>\n",
       "      <td>09</td>\n",
       "      <td>18</td>\n",
       "      <td>21 - Suburban, Large</td>\n",
       "      <td>11260</td>\n",
       "      <td>1877</td>\n",
       "      <td>9383</td>\n",
       "      <td>825</td>\n",
       "      <td>7.300000</td>\n",
       "      <td>28</td>\n",
       "      <td>0.2</td>\n",
       "      <td>2854</td>\n",
       "      <td>25.299999</td>\n",
       "      <td>683</td>\n",
       "      <td>6.1</td>\n",
       "      <td>1960</td>\n",
       "      <td>17.400000</td>\n",
       "      <td>1310</td>\n",
       "      <td>11.6</td>\n",
       "      <td>67</td>\n",
       "      <td>0.6</td>\n",
       "      <td>3244</td>\n",
       "      <td>28.799999</td>\n",
       "      <td>289</td>\n",
       "      <td>2.6</td>\n",
       "      <td>1601</td>\n",
       "      <td>14.2</td>\n",
       "      <td>26</td>\n",
       "      <td>0.2</td>\n",
       "      <td>67</td>\n",
       "      <td>0.6</td>\n",
       "      <td>0</td>\n",
       "      <td>0.0</td>\n",
       "      <td>1289</td>\n",
       "      <td>11.4</td>\n",
       "      <td>3523</td>\n",
       "      <td>31.299999</td>\n",
       "      <td>3144</td>\n",
       "      <td>33.500000</td>\n",
       "      <td>4567.0</td>\n",
       "      <td>69.400002</td>\n",
       "      <td>4587.0</td>\n",
       "      <td>59.700001</td>\n",
       "      <td>773.0</td>\n",
       "      <td>56.799999</td>\n",
       "      <td>11453.0</td>\n",
       "      <td>9.4</td>\n",
       "      <td>882.0</td>\n",
       "      <td>88.900002</td>\n",
       "      <td>58.900002</td>\n",
       "      <td>5.2</td>\n",
       "      <td>11600.0</td>\n",
       "      <td>2.6</td>\n",
       "      <td>57196.403944</td>\n",
       "      <td>4.733304e+07</td>\n",
       "    </tr>\n",
       "    <tr>\n",
       "      <th>1</th>\n",
       "      <td>Alameda</td>\n",
       "      <td>Albany City Unified</td>\n",
       "      <td>Unified</td>\n",
       "      <td>KG</td>\n",
       "      <td>12</td>\n",
       "      <td>KG</td>\n",
       "      <td>12</td>\n",
       "      <td>General Assistance</td>\n",
       "      <td>13</td>\n",
       "      <td>09</td>\n",
       "      <td>15</td>\n",
       "      <td>21 - Suburban, Large</td>\n",
       "      <td>3682</td>\n",
       "      <td>0</td>\n",
       "      <td>3682</td>\n",
       "      <td>111</td>\n",
       "      <td>3.000000</td>\n",
       "      <td>4</td>\n",
       "      <td>0.1</td>\n",
       "      <td>1063</td>\n",
       "      <td>28.900000</td>\n",
       "      <td>47</td>\n",
       "      <td>1.3</td>\n",
       "      <td>592</td>\n",
       "      <td>16.100000</td>\n",
       "      <td>510</td>\n",
       "      <td>13.9</td>\n",
       "      <td>6</td>\n",
       "      <td>0.2</td>\n",
       "      <td>1163</td>\n",
       "      <td>31.600000</td>\n",
       "      <td>186</td>\n",
       "      <td>5.1</td>\n",
       "      <td>583</td>\n",
       "      <td>15.8</td>\n",
       "      <td>2</td>\n",
       "      <td>0.1</td>\n",
       "      <td>12</td>\n",
       "      <td>0.3</td>\n",
       "      <td>0</td>\n",
       "      <td>0.0</td>\n",
       "      <td>312</td>\n",
       "      <td>8.5</td>\n",
       "      <td>777</td>\n",
       "      <td>21.100000</td>\n",
       "      <td>1118</td>\n",
       "      <td>30.400000</td>\n",
       "      <td>1773.0</td>\n",
       "      <td>79.199997</td>\n",
       "      <td>1795.0</td>\n",
       "      <td>72.000000</td>\n",
       "      <td>302.0</td>\n",
       "      <td>62.599998</td>\n",
       "      <td>3763.0</td>\n",
       "      <td>6.4</td>\n",
       "      <td>301.0</td>\n",
       "      <td>94.699997</td>\n",
       "      <td>63.900002</td>\n",
       "      <td>1.7</td>\n",
       "      <td>3830.0</td>\n",
       "      <td>1.9</td>\n",
       "      <td>12870.772156</td>\n",
       "      <td>7.161276e+06</td>\n",
       "    </tr>\n",
       "    <tr>\n",
       "      <th>2</th>\n",
       "      <td>Alameda</td>\n",
       "      <td>Berkeley Unified</td>\n",
       "      <td>Unified</td>\n",
       "      <td>KG</td>\n",
       "      <td>12</td>\n",
       "      <td>KG</td>\n",
       "      <td>12</td>\n",
       "      <td>Differentiated Assistance</td>\n",
       "      <td>13</td>\n",
       "      <td>09</td>\n",
       "      <td>15</td>\n",
       "      <td>12 - City, Midsize</td>\n",
       "      <td>10194</td>\n",
       "      <td>383</td>\n",
       "      <td>9811</td>\n",
       "      <td>1440</td>\n",
       "      <td>14.100000</td>\n",
       "      <td>16</td>\n",
       "      <td>0.2</td>\n",
       "      <td>731</td>\n",
       "      <td>7.200000</td>\n",
       "      <td>83</td>\n",
       "      <td>0.8</td>\n",
       "      <td>2438</td>\n",
       "      <td>23.900000</td>\n",
       "      <td>1465</td>\n",
       "      <td>14.4</td>\n",
       "      <td>14</td>\n",
       "      <td>0.1</td>\n",
       "      <td>3999</td>\n",
       "      <td>39.200001</td>\n",
       "      <td>8</td>\n",
       "      <td>0.1</td>\n",
       "      <td>953</td>\n",
       "      <td>9.3</td>\n",
       "      <td>23</td>\n",
       "      <td>0.2</td>\n",
       "      <td>265</td>\n",
       "      <td>2.6</td>\n",
       "      <td>0</td>\n",
       "      <td>0.0</td>\n",
       "      <td>1148</td>\n",
       "      <td>11.3</td>\n",
       "      <td>3331</td>\n",
       "      <td>32.700001</td>\n",
       "      <td>3275</td>\n",
       "      <td>33.400002</td>\n",
       "      <td>4614.0</td>\n",
       "      <td>66.699997</td>\n",
       "      <td>4549.0</td>\n",
       "      <td>61.700001</td>\n",
       "      <td>790.0</td>\n",
       "      <td>63.299999</td>\n",
       "      <td>10404.0</td>\n",
       "      <td>9.7</td>\n",
       "      <td>856.0</td>\n",
       "      <td>87.400002</td>\n",
       "      <td>83.300003</td>\n",
       "      <td>10.7</td>\n",
       "      <td>10534.0</td>\n",
       "      <td>1.4</td>\n",
       "      <td>44426.287405</td>\n",
       "      <td>4.376389e+07</td>\n",
       "    </tr>\n",
       "    <tr>\n",
       "      <th>3</th>\n",
       "      <td>Alameda</td>\n",
       "      <td>Castro Valley Unified</td>\n",
       "      <td>Unified</td>\n",
       "      <td>KG</td>\n",
       "      <td>12</td>\n",
       "      <td>KG</td>\n",
       "      <td>12</td>\n",
       "      <td>General Assistance</td>\n",
       "      <td>13,15</td>\n",
       "      <td>07,09,10</td>\n",
       "      <td>18,20</td>\n",
       "      <td>21 - Suburban, Large</td>\n",
       "      <td>9269</td>\n",
       "      <td>0</td>\n",
       "      <td>9269</td>\n",
       "      <td>489</td>\n",
       "      <td>5.300000</td>\n",
       "      <td>19</td>\n",
       "      <td>0.2</td>\n",
       "      <td>2539</td>\n",
       "      <td>27.400000</td>\n",
       "      <td>420</td>\n",
       "      <td>4.5</td>\n",
       "      <td>2204</td>\n",
       "      <td>23.799999</td>\n",
       "      <td>909</td>\n",
       "      <td>9.8</td>\n",
       "      <td>47</td>\n",
       "      <td>0.5</td>\n",
       "      <td>2480</td>\n",
       "      <td>26.799999</td>\n",
       "      <td>162</td>\n",
       "      <td>1.7</td>\n",
       "      <td>1021</td>\n",
       "      <td>11.0</td>\n",
       "      <td>12</td>\n",
       "      <td>0.1</td>\n",
       "      <td>68</td>\n",
       "      <td>0.7</td>\n",
       "      <td>0</td>\n",
       "      <td>0.0</td>\n",
       "      <td>800</td>\n",
       "      <td>8.6</td>\n",
       "      <td>2284</td>\n",
       "      <td>24.600000</td>\n",
       "      <td>2739</td>\n",
       "      <td>29.600000</td>\n",
       "      <td>4844.0</td>\n",
       "      <td>68.099998</td>\n",
       "      <td>4850.0</td>\n",
       "      <td>63.200001</td>\n",
       "      <td>737.0</td>\n",
       "      <td>57.099998</td>\n",
       "      <td>9433.0</td>\n",
       "      <td>7.4</td>\n",
       "      <td>742.0</td>\n",
       "      <td>92.599998</td>\n",
       "      <td>55.900002</td>\n",
       "      <td>3.0</td>\n",
       "      <td>9532.0</td>\n",
       "      <td>2.2</td>\n",
       "      <td>142338.494091</td>\n",
       "      <td>2.833205e+08</td>\n",
       "    </tr>\n",
       "    <tr>\n",
       "      <th>4</th>\n",
       "      <td>Alameda</td>\n",
       "      <td>Emery Unified</td>\n",
       "      <td>Unified</td>\n",
       "      <td>KG</td>\n",
       "      <td>12</td>\n",
       "      <td>KG</td>\n",
       "      <td>12</td>\n",
       "      <td>Differentiated Assistance</td>\n",
       "      <td>13</td>\n",
       "      <td>09</td>\n",
       "      <td>15</td>\n",
       "      <td>21 - Suburban, Large</td>\n",
       "      <td>743</td>\n",
       "      <td>0</td>\n",
       "      <td>743</td>\n",
       "      <td>326</td>\n",
       "      <td>43.900002</td>\n",
       "      <td>1</td>\n",
       "      <td>0.1</td>\n",
       "      <td>83</td>\n",
       "      <td>11.200000</td>\n",
       "      <td>11</td>\n",
       "      <td>1.5</td>\n",
       "      <td>185</td>\n",
       "      <td>24.900000</td>\n",
       "      <td>62</td>\n",
       "      <td>8.3</td>\n",
       "      <td>8</td>\n",
       "      <td>1.1</td>\n",
       "      <td>67</td>\n",
       "      <td>9.000000</td>\n",
       "      <td>0</td>\n",
       "      <td>0.0</td>\n",
       "      <td>160</td>\n",
       "      <td>21.5</td>\n",
       "      <td>1</td>\n",
       "      <td>0.1</td>\n",
       "      <td>7</td>\n",
       "      <td>0.9</td>\n",
       "      <td>0</td>\n",
       "      <td>0.0</td>\n",
       "      <td>55</td>\n",
       "      <td>7.4</td>\n",
       "      <td>600</td>\n",
       "      <td>80.800003</td>\n",
       "      <td>613</td>\n",
       "      <td>83.099998</td>\n",
       "      <td>376.0</td>\n",
       "      <td>37.099998</td>\n",
       "      <td>377.0</td>\n",
       "      <td>23.299999</td>\n",
       "      <td>40.0</td>\n",
       "      <td>22.500000</td>\n",
       "      <td>760.0</td>\n",
       "      <td>20.5</td>\n",
       "      <td>40.0</td>\n",
       "      <td>100.000000</td>\n",
       "      <td>40.000000</td>\n",
       "      <td>0.0</td>\n",
       "      <td>780.0</td>\n",
       "      <td>3.6</td>\n",
       "      <td>13762.869292</td>\n",
       "      <td>5.368212e+06</td>\n",
       "    </tr>\n",
       "  </tbody>\n",
       "</table>\n",
       "</div>"
      ],
      "text/plain": [
       "  CountyName           DistrictName DistrictType GradeLow  GradeHigh  \\\n",
       "0    Alameda        Alameda Unified      Unified       KG         12   \n",
       "1    Alameda    Albany City Unified      Unified       KG         12   \n",
       "2    Alameda       Berkeley Unified      Unified       KG         12   \n",
       "3    Alameda  Castro Valley Unified      Unified       KG         12   \n",
       "4    Alameda          Emery Unified      Unified       KG         12   \n",
       "\n",
       "  GradeLowCensus  GradeHighCensus               AssistStatus CongressUS  \\\n",
       "0             KG               12  Differentiated Assistance         13   \n",
       "1             KG               12         General Assistance         13   \n",
       "2             KG               12  Differentiated Assistance         13   \n",
       "3             KG               12         General Assistance      13,15   \n",
       "4             KG               12  Differentiated Assistance         13   \n",
       "\n",
       "   SenateCA AssemblyCA        LocaleDistrict  EnrollTotal  EnrollCharter  \\\n",
       "0        09         18  21 - Suburban, Large        11260           1877   \n",
       "1        09         15  21 - Suburban, Large         3682              0   \n",
       "2        09         15   12 - City, Midsize         10194            383   \n",
       "3  07,09,10      18,20  21 - Suburban, Large         9269              0   \n",
       "4        09         15  21 - Suburban, Large          743              0   \n",
       "\n",
       "   EnrollNonCharter  AAcount      AApct  AIcount  AIpct  AScount      ASpct  \\\n",
       "0              9383      825   7.300000       28    0.2     2854  25.299999   \n",
       "1              3682      111   3.000000        4    0.1     1063  28.900000   \n",
       "2              9811     1440  14.100000       16    0.2      731   7.200000   \n",
       "3              9269      489   5.300000       19    0.2     2539  27.400000   \n",
       "4               743      326  43.900002        1    0.1       83  11.200000   \n",
       "\n",
       "   FIcount  FIpct  HIcount      HIpct  MRcount  MRpct  PIcount  PIpct  \\\n",
       "0      683    6.1     1960  17.400000     1310   11.6       67    0.6   \n",
       "1       47    1.3      592  16.100000      510   13.9        6    0.2   \n",
       "2       83    0.8     2438  23.900000     1465   14.4       14    0.1   \n",
       "3      420    4.5     2204  23.799999      909    9.8       47    0.5   \n",
       "4       11    1.5      185  24.900000       62    8.3        8    1.1   \n",
       "\n",
       "   WHcount      WHpct  NRcount  NRpct  ELcount  ELpct  FOScount  FOSpct  \\\n",
       "0     3244  28.799999      289    2.6     1601   14.2        26     0.2   \n",
       "1     1163  31.600000      186    5.1      583   15.8         2     0.1   \n",
       "2     3999  39.200001        8    0.1      953    9.3        23     0.2   \n",
       "3     2480  26.799999      162    1.7     1021   11.0        12     0.1   \n",
       "4       67   9.000000        0    0.0      160   21.5         1     0.1   \n",
       "\n",
       "   HOMcount  HOMpct  MIGcount  MIGpct  SWDcount  SWDpct  SEDcount     SEDpct  \\\n",
       "0        67     0.6         0     0.0      1289    11.4      3523  31.299999   \n",
       "1        12     0.3         0     0.0       312     8.5       777  21.100000   \n",
       "2       265     2.6         0     0.0      1148    11.3      3331  32.700001   \n",
       "3        68     0.7         0     0.0       800     8.6      2284  24.600000   \n",
       "4         7     0.9         0     0.0        55     7.4       600  80.800003   \n",
       "\n",
       "   UPcount      UPpct  ELATested  ELAStdMetPct  MathTested  MathStdMetPct  \\\n",
       "0     3144  33.500000     4567.0     69.400002      4587.0      59.700001   \n",
       "1     1118  30.400000     1773.0     79.199997      1795.0      72.000000   \n",
       "2     3275  33.400002     4614.0     66.699997      4549.0      61.700001   \n",
       "3     2739  29.600000     4844.0     68.099998      4850.0      63.200001   \n",
       "4      613  83.099998      376.0     37.099998       377.0      23.299999   \n",
       "\n",
       "   CCPrepCohortCount  CCPrepPct  AbsentEligCount  AbsentPct  GradCohortCount  \\\n",
       "0              773.0  56.799999          11453.0        9.4            882.0   \n",
       "1              302.0  62.599998           3763.0        6.4            301.0   \n",
       "2              790.0  63.299999          10404.0        9.7            856.0   \n",
       "3              737.0  57.099998           9433.0        7.4            742.0   \n",
       "4               40.0  22.500000            760.0       20.5             40.0   \n",
       "\n",
       "      GradPct  UCCSUReqMetPct  DropOutPct  EnrollCumulative  SuspPct  \\\n",
       "0   88.900002       58.900002         5.2           11600.0      2.6   \n",
       "1   94.699997       63.900002         1.7            3830.0      1.9   \n",
       "2   87.400002       83.300003        10.7           10534.0      1.4   \n",
       "3   92.599998       55.900002         3.0            9532.0      2.2   \n",
       "4  100.000000       40.000000         0.0             780.0      3.6   \n",
       "\n",
       "    SHAPE_Length    SHAPE_Area  \n",
       "0   57196.403944  4.733304e+07  \n",
       "1   12870.772156  7.161276e+06  \n",
       "2   44426.287405  4.376389e+07  \n",
       "3  142338.494091  2.833205e+08  \n",
       "4   13762.869292  5.368212e+06  "
      ]
     },
     "execution_count": 3,
     "metadata": {},
     "output_type": "execute_result"
    }
   ],
   "source": [
    "df.head()"
   ]
  },
  {
   "cell_type": "markdown",
   "metadata": {},
   "source": [
    "## Clean Dataset"
   ]
  },
  {
   "cell_type": "code",
   "execution_count": 4,
   "metadata": {},
   "outputs": [],
   "source": [
    "# renaming the columns\n",
    "df = df.rename(columns=\n",
    "           {'DistrictName': 'SchoolName',\n",
    "            'DistrictType': 'SchoolType',\n",
    "            'AAcount': 'AfricanAmerican',\n",
    "            'AApct': 'AfricanAmericanPct',\n",
    "            'AIcount': 'AmericanIndian',\n",
    "            'AIpct': 'AmericanIndianPct',\n",
    "            'AScount': 'Asian',\n",
    "            'ASpct': 'AsianPct',\n",
    "            'FIcount': 'Filipino',\n",
    "            'FIpct': 'FilipinoPct',\n",
    "            'HIcount': 'Hispanic',\n",
    "            'HIpct': 'HispanicPct',\n",
    "            'MRcount': 'MultipleRace',\n",
    "            'MRpct': 'MulitpleRacePct',\n",
    "            'PIcount': 'PacificIslander',\n",
    "            'PIpct': 'PacificIslanderPct',\n",
    "            'WHcount': 'White',\n",
    "            'WHpct': 'WhitePct',\n",
    "            'NRcount': 'RaceNotReported',\n",
    "            'NRpct': 'RaceNotReportedPct',\n",
    "            'ELcount': 'EnglishLearner',\n",
    "            'ELpct': 'EnglishLearnerPct',\n",
    "            'FOScount': 'Foster',\n",
    "            'FOSpct': 'FosterPct',\n",
    "            'HOMcount': 'Homeless',\n",
    "            'HOMpct': 'HomelessPct',\n",
    "            'MIGcount': 'Migrant',\n",
    "            'MIGpct': 'MigrantPct',\n",
    "            'SWDcount': 'Disability',\n",
    "            'SWDpct': 'DisabilityPct',\n",
    "            'SEDcount': 'SocioEconDisadvantage',\n",
    "            'SEDpct': 'SocioEconDisadvantagePct',\n",
    "            'UPcount': 'Unduplicated',\n",
    "            'UPpct': 'UnduplicatedPct'\n",
    "            },\n",
    "              inplace=False)"
   ]
  },
  {
   "cell_type": "code",
   "execution_count": 5,
   "metadata": {},
   "outputs": [],
   "source": [
    "# df['MathStdMetPct'].describe()\n",
    "# df['ELAStdMetPct'].describe()\n",
    "# df['StudentPerformancePercent'] = ((df['MathTested'] + df['ELATested']) / 2) / df['EnrollTotal']"
   ]
  },
  {
   "cell_type": "code",
   "execution_count": 6,
   "metadata": {},
   "outputs": [
    {
     "data": {
      "image/png": "[encoded data removed]",
      "text/plain": [
       "<Figure size 1080x72 with 1 Axes>"
      ]
     },
     "metadata": {
      "needs_background": "light"
     },
     "output_type": "display_data"
    }
   ],
   "source": [
    "# target variable\n",
    "plt.figure(figsize=(15,1))\n",
    "sns.boxplot(data=df, x='ELAStdMetPct');"
   ]
  },
  {
   "cell_type": "code",
   "execution_count": 7,
   "metadata": {},
   "outputs": [],
   "source": [
    "df['target'] = np.where(df.ELAStdMetPct >= 61.225, 1, 0)\n",
    "\n"
   ]
  },
  {
   "cell_type": "code",
   "execution_count": 8,
   "metadata": {},
   "outputs": [
    {
     "data": {
      "text/plain": [
       "0    714\n",
       "1    230\n",
       "Name: target, dtype: int64"
      ]
     },
     "execution_count": 8,
     "metadata": {},
     "output_type": "execute_result"
    }
   ],
   "source": [
    "df['target'].value_counts()"
   ]
  },
  {
   "cell_type": "code",
   "execution_count": 9,
   "metadata": {},
   "outputs": [],
   "source": [
    "df.drop(columns=['AfricanAmerican', 'AmericanIndian', 'Asian', 'Filipino', 'Hispanic', 'MultipleRace', 'PacificIslander', 'White', 'RaceNotReported', 'EnglishLearner', 'Foster', 'Homeless', 'Migrant', 'Disability', 'SocioEconDisadvantage', 'ELATested', 'ELAStdMetPct', 'MathTested', 'MathStdMetPct', 'CCPrepCohortCount', 'AbsentEligCount', 'GradCohortCount'], inplace=True)"
   ]
  },
  {
   "cell_type": "code",
   "execution_count": null,
   "metadata": {},
   "outputs": [],
   "source": []
  },
  {
   "cell_type": "markdown",
   "metadata": {},
   "source": [
    "#### Null Values"
   ]
  },
  {
   "cell_type": "code",
   "execution_count": 10,
   "metadata": {},
   "outputs": [
    {
     "name": "stdout",
     "output_type": "stream",
     "text": [
      "<class 'pandas.core.frame.DataFrame'>\n",
      "RangeIndex: 944 entries, 0 to 943\n",
      "Data columns (total 42 columns):\n",
      "CountyName                  944 non-null object\n",
      "SchoolName                  944 non-null object\n",
      "SchoolType                  944 non-null object\n",
      "GradeLow                    944 non-null object\n",
      "GradeHigh                   944 non-null int64\n",
      "GradeLowCensus              944 non-null object\n",
      "GradeHighCensus             944 non-null int64\n",
      "AssistStatus                944 non-null object\n",
      "CongressUS                  944 non-null object\n",
      "SenateCA                    944 non-null object\n",
      "AssemblyCA                  944 non-null object\n",
      "LocaleDistrict              944 non-null object\n",
      "EnrollTotal                 944 non-null int64\n",
      "EnrollCharter               944 non-null int64\n",
      "EnrollNonCharter            944 non-null int64\n",
      "AfricanAmericanPct          944 non-null float64\n",
      "AmericanIndianPct           944 non-null float64\n",
      "AsianPct                    944 non-null float64\n",
      "FilipinoPct                 944 non-null float64\n",
      "HispanicPct                 944 non-null float64\n",
      "MulitpleRacePct             944 non-null float64\n",
      "PacificIslanderPct          944 non-null float64\n",
      "WhitePct                    944 non-null float64\n",
      "RaceNotReportedPct          944 non-null float64\n",
      "EnglishLearnerPct           944 non-null float64\n",
      "FosterPct                   944 non-null float64\n",
      "HomelessPct                 944 non-null float64\n",
      "MigrantPct                  944 non-null float64\n",
      "DisabilityPct               944 non-null float64\n",
      "SocioEconDisadvantagePct    944 non-null float64\n",
      "Unduplicated                944 non-null int64\n",
      "UnduplicatedPct             944 non-null float64\n",
      "CCPrepPct                   403 non-null float64\n",
      "AbsentPct                   936 non-null float64\n",
      "GradPct                     464 non-null float64\n",
      "UCCSUReqMetPct              464 non-null float64\n",
      "DropOutPct                  464 non-null float64\n",
      "EnrollCumulative            939 non-null float64\n",
      "SuspPct                     939 non-null float64\n",
      "SHAPE_Length                944 non-null float64\n",
      "SHAPE_Area                  944 non-null float64\n",
      "target                      944 non-null int64\n",
      "dtypes: float64(25), int64(7), object(10)\n",
      "memory usage: 309.9+ KB\n"
     ]
    }
   ],
   "source": [
    "df.info()"
   ]
  },
  {
   "cell_type": "code",
   "execution_count": 11,
   "metadata": {},
   "outputs": [],
   "source": [
    "## How do we want to handle null values\n",
    "\n",
    "# same with the null --- for grad and drop out"
   ]
  },
  {
   "cell_type": "code",
   "execution_count": 12,
   "metadata": {},
   "outputs": [
    {
     "data": {
      "image/png": "[encoded data removed]",
      "text/plain": [
       "<Figure size 432x288 with 1 Axes>"
      ]
     },
     "metadata": {
      "needs_background": "light"
     },
     "output_type": "display_data"
    }
   ],
   "source": [
    "fig, ax = plt.subplots()\n",
    "ax = plt.boxplot(df.EnrollTotal, showfliers = False)"
   ]
  },
  {
   "cell_type": "code",
   "execution_count": 13,
   "metadata": {},
   "outputs": [
    {
     "data": {
      "text/html": [
       "<div>\n",
       "<style scoped>\n",
       "    .dataframe tbody tr th:only-of-type {\n",
       "        vertical-align: middle;\n",
       "    }\n",
       "\n",
       "    .dataframe tbody tr th {\n",
       "        vertical-align: top;\n",
       "    }\n",
       "\n",
       "    .dataframe thead th {\n",
       "        text-align: right;\n",
       "    }\n",
       "</style>\n",
       "<table border=\"1\" class=\"dataframe\">\n",
       "  <thead>\n",
       "    <tr style=\"text-align: right;\">\n",
       "      <th></th>\n",
       "      <th>GradeHigh</th>\n",
       "      <th>GradeHighCensus</th>\n",
       "      <th>EnrollTotal</th>\n",
       "      <th>EnrollCharter</th>\n",
       "      <th>EnrollNonCharter</th>\n",
       "      <th>AfricanAmericanPct</th>\n",
       "      <th>AmericanIndianPct</th>\n",
       "      <th>AsianPct</th>\n",
       "      <th>FilipinoPct</th>\n",
       "      <th>HispanicPct</th>\n",
       "      <th>MulitpleRacePct</th>\n",
       "      <th>PacificIslanderPct</th>\n",
       "      <th>WhitePct</th>\n",
       "      <th>RaceNotReportedPct</th>\n",
       "      <th>EnglishLearnerPct</th>\n",
       "      <th>FosterPct</th>\n",
       "      <th>HomelessPct</th>\n",
       "      <th>MigrantPct</th>\n",
       "      <th>DisabilityPct</th>\n",
       "      <th>SocioEconDisadvantagePct</th>\n",
       "      <th>Unduplicated</th>\n",
       "      <th>UnduplicatedPct</th>\n",
       "      <th>CCPrepPct</th>\n",
       "      <th>AbsentPct</th>\n",
       "      <th>GradPct</th>\n",
       "      <th>UCCSUReqMetPct</th>\n",
       "      <th>DropOutPct</th>\n",
       "      <th>EnrollCumulative</th>\n",
       "      <th>SuspPct</th>\n",
       "      <th>SHAPE_Length</th>\n",
       "      <th>SHAPE_Area</th>\n",
       "      <th>target</th>\n",
       "    </tr>\n",
       "  </thead>\n",
       "  <tbody>\n",
       "    <tr>\n",
       "      <th>count</th>\n",
       "      <td>944.000000</td>\n",
       "      <td>944.000000</td>\n",
       "      <td>944.000000</td>\n",
       "      <td>944.000000</td>\n",
       "      <td>944.000000</td>\n",
       "      <td>944.000000</td>\n",
       "      <td>944.000000</td>\n",
       "      <td>944.000000</td>\n",
       "      <td>944.000000</td>\n",
       "      <td>944.000000</td>\n",
       "      <td>944.000000</td>\n",
       "      <td>944.000000</td>\n",
       "      <td>944.000000</td>\n",
       "      <td>944.000000</td>\n",
       "      <td>944.000000</td>\n",
       "      <td>944.000000</td>\n",
       "      <td>944.000000</td>\n",
       "      <td>944.000000</td>\n",
       "      <td>944.000000</td>\n",
       "      <td>944.000000</td>\n",
       "      <td>944.000000</td>\n",
       "      <td>944.000000</td>\n",
       "      <td>403.000000</td>\n",
       "      <td>936.000000</td>\n",
       "      <td>464.000000</td>\n",
       "      <td>464.000000</td>\n",
       "      <td>464.000000</td>\n",
       "      <td>939.000000</td>\n",
       "      <td>939.000000</td>\n",
       "      <td>944.000000</td>\n",
       "      <td>9.440000e+02</td>\n",
       "      <td>944.000000</td>\n",
       "    </tr>\n",
       "    <tr>\n",
       "      <th>mean</th>\n",
       "      <td>9.958686</td>\n",
       "      <td>9.653602</td>\n",
       "      <td>6425.233051</td>\n",
       "      <td>594.626059</td>\n",
       "      <td>5830.606992</td>\n",
       "      <td>2.568326</td>\n",
       "      <td>1.918644</td>\n",
       "      <td>5.368856</td>\n",
       "      <td>1.353284</td>\n",
       "      <td>45.025636</td>\n",
       "      <td>4.574788</td>\n",
       "      <td>0.364195</td>\n",
       "      <td>37.744809</td>\n",
       "      <td>1.080720</td>\n",
       "      <td>17.504025</td>\n",
       "      <td>0.519703</td>\n",
       "      <td>3.154449</td>\n",
       "      <td>1.519174</td>\n",
       "      <td>10.698411</td>\n",
       "      <td>57.559110</td>\n",
       "      <td>3667.047669</td>\n",
       "      <td>60.406991</td>\n",
       "      <td>45.161787</td>\n",
       "      <td>11.681517</td>\n",
       "      <td>85.747845</td>\n",
       "      <td>41.782974</td>\n",
       "      <td>8.969828</td>\n",
       "      <td>6864.900958</td>\n",
       "      <td>3.401810</td>\n",
       "      <td>137478.658644</td>\n",
       "      <td>8.992017e+08</td>\n",
       "      <td>0.243644</td>\n",
       "    </tr>\n",
       "    <tr>\n",
       "      <th>std</th>\n",
       "      <td>2.135244</td>\n",
       "      <td>2.172743</td>\n",
       "      <td>22040.869205</td>\n",
       "      <td>5209.655649</td>\n",
       "      <td>17345.904065</td>\n",
       "      <td>4.333551</td>\n",
       "      <td>6.817423</td>\n",
       "      <td>9.993284</td>\n",
       "      <td>2.592887</td>\n",
       "      <td>28.123249</td>\n",
       "      <td>5.172701</td>\n",
       "      <td>0.974320</td>\n",
       "      <td>25.597142</td>\n",
       "      <td>2.817625</td>\n",
       "      <td>16.198711</td>\n",
       "      <td>0.778866</td>\n",
       "      <td>5.547407</td>\n",
       "      <td>3.756048</td>\n",
       "      <td>3.865557</td>\n",
       "      <td>25.054015</td>\n",
       "      <td>13712.296227</td>\n",
       "      <td>24.968052</td>\n",
       "      <td>15.960657</td>\n",
       "      <td>7.979224</td>\n",
       "      <td>15.547711</td>\n",
       "      <td>21.748206</td>\n",
       "      <td>12.620977</td>\n",
       "      <td>23068.520876</td>\n",
       "      <td>3.091488</td>\n",
       "      <td>120833.689911</td>\n",
       "      <td>1.835299e+09</td>\n",
       "      <td>0.429508</td>\n",
       "    </tr>\n",
       "    <tr>\n",
       "      <th>min</th>\n",
       "      <td>5.000000</td>\n",
       "      <td>5.000000</td>\n",
       "      <td>3.000000</td>\n",
       "      <td>0.000000</td>\n",
       "      <td>0.000000</td>\n",
       "      <td>0.000000</td>\n",
       "      <td>0.000000</td>\n",
       "      <td>0.000000</td>\n",
       "      <td>0.000000</td>\n",
       "      <td>0.000000</td>\n",
       "      <td>0.000000</td>\n",
       "      <td>0.000000</td>\n",
       "      <td>0.000000</td>\n",
       "      <td>0.000000</td>\n",
       "      <td>0.000000</td>\n",
       "      <td>0.000000</td>\n",
       "      <td>0.000000</td>\n",
       "      <td>0.000000</td>\n",
       "      <td>0.000000</td>\n",
       "      <td>0.000000</td>\n",
       "      <td>0.000000</td>\n",
       "      <td>0.000000</td>\n",
       "      <td>3.000000</td>\n",
       "      <td>0.000000</td>\n",
       "      <td>3.100000</td>\n",
       "      <td>0.000000</td>\n",
       "      <td>0.000000</td>\n",
       "      <td>11.000000</td>\n",
       "      <td>0.000000</td>\n",
       "      <td>2134.672224</td>\n",
       "      <td>2.821288e+05</td>\n",
       "      <td>0.000000</td>\n",
       "    </tr>\n",
       "    <tr>\n",
       "      <th>25%</th>\n",
       "      <td>8.000000</td>\n",
       "      <td>8.000000</td>\n",
       "      <td>400.000000</td>\n",
       "      <td>0.000000</td>\n",
       "      <td>289.250000</td>\n",
       "      <td>0.400000</td>\n",
       "      <td>0.100000</td>\n",
       "      <td>0.500000</td>\n",
       "      <td>0.000000</td>\n",
       "      <td>19.450000</td>\n",
       "      <td>1.200000</td>\n",
       "      <td>0.000000</td>\n",
       "      <td>13.175000</td>\n",
       "      <td>0.000000</td>\n",
       "      <td>4.900000</td>\n",
       "      <td>0.100000</td>\n",
       "      <td>0.200000</td>\n",
       "      <td>0.000000</td>\n",
       "      <td>8.600000</td>\n",
       "      <td>38.975001</td>\n",
       "      <td>157.000000</td>\n",
       "      <td>42.249999</td>\n",
       "      <td>35.649999</td>\n",
       "      <td>6.675000</td>\n",
       "      <td>85.000000</td>\n",
       "      <td>28.900000</td>\n",
       "      <td>2.900000</td>\n",
       "      <td>427.000000</td>\n",
       "      <td>1.350000</td>\n",
       "      <td>54183.396949</td>\n",
       "      <td>8.853034e+07</td>\n",
       "      <td>0.000000</td>\n",
       "    </tr>\n",
       "    <tr>\n",
       "      <th>50%</th>\n",
       "      <td>12.000000</td>\n",
       "      <td>8.000000</td>\n",
       "      <td>2040.500000</td>\n",
       "      <td>0.000000</td>\n",
       "      <td>1646.000000</td>\n",
       "      <td>1.100000</td>\n",
       "      <td>0.400000</td>\n",
       "      <td>1.600000</td>\n",
       "      <td>0.500000</td>\n",
       "      <td>40.799999</td>\n",
       "      <td>3.550000</td>\n",
       "      <td>0.200000</td>\n",
       "      <td>36.850001</td>\n",
       "      <td>0.300000</td>\n",
       "      <td>13.050000</td>\n",
       "      <td>0.300000</td>\n",
       "      <td>1.000000</td>\n",
       "      <td>0.000000</td>\n",
       "      <td>10.800000</td>\n",
       "      <td>59.500000</td>\n",
       "      <td>784.500000</td>\n",
       "      <td>62.850001</td>\n",
       "      <td>43.400002</td>\n",
       "      <td>10.100000</td>\n",
       "      <td>90.049999</td>\n",
       "      <td>41.700001</td>\n",
       "      <td>5.500000</td>\n",
       "      <td>2187.000000</td>\n",
       "      <td>2.700000</td>\n",
       "      <td>101249.413155</td>\n",
       "      <td>2.769788e+08</td>\n",
       "      <td>0.000000</td>\n",
       "    </tr>\n",
       "    <tr>\n",
       "      <th>75%</th>\n",
       "      <td>12.000000</td>\n",
       "      <td>12.000000</td>\n",
       "      <td>6550.000000</td>\n",
       "      <td>226.500000</td>\n",
       "      <td>6018.500000</td>\n",
       "      <td>2.700000</td>\n",
       "      <td>1.100000</td>\n",
       "      <td>5.100000</td>\n",
       "      <td>1.400000</td>\n",
       "      <td>67.549999</td>\n",
       "      <td>6.600000</td>\n",
       "      <td>0.400000</td>\n",
       "      <td>60.124999</td>\n",
       "      <td>1.100000</td>\n",
       "      <td>24.925000</td>\n",
       "      <td>0.700000</td>\n",
       "      <td>3.725000</td>\n",
       "      <td>1.100000</td>\n",
       "      <td>12.500000</td>\n",
       "      <td>77.925002</td>\n",
       "      <td>3189.250000</td>\n",
       "      <td>81.124998</td>\n",
       "      <td>56.450001</td>\n",
       "      <td>14.500000</td>\n",
       "      <td>93.800003</td>\n",
       "      <td>53.700001</td>\n",
       "      <td>9.700000</td>\n",
       "      <td>6981.500000</td>\n",
       "      <td>4.800000</td>\n",
       "      <td>180708.436455</td>\n",
       "      <td>8.492910e+08</td>\n",
       "      <td>0.000000</td>\n",
       "    </tr>\n",
       "    <tr>\n",
       "      <th>max</th>\n",
       "      <td>12.000000</td>\n",
       "      <td>12.000000</td>\n",
       "      <td>607723.000000</td>\n",
       "      <td>154447.000000</td>\n",
       "      <td>453276.000000</td>\n",
       "      <td>43.900002</td>\n",
       "      <td>86.699997</td>\n",
       "      <td>73.099998</td>\n",
       "      <td>30.200001</td>\n",
       "      <td>100.000000</td>\n",
       "      <td>100.000000</td>\n",
       "      <td>23.500000</td>\n",
       "      <td>100.000000</td>\n",
       "      <td>46.000000</td>\n",
       "      <td>78.599998</td>\n",
       "      <td>8.300000</td>\n",
       "      <td>58.200001</td>\n",
       "      <td>40.400002</td>\n",
       "      <td>35.700001</td>\n",
       "      <td>100.000000</td>\n",
       "      <td>376812.000000</td>\n",
       "      <td>100.000000</td>\n",
       "      <td>87.400002</td>\n",
       "      <td>65.400002</td>\n",
       "      <td>100.000000</td>\n",
       "      <td>100.000000</td>\n",
       "      <td>93.800003</td>\n",
       "      <td>630838.000000</td>\n",
       "      <td>25.900000</td>\n",
       "      <td>913155.411235</td>\n",
       "      <td>2.111754e+10</td>\n",
       "      <td>1.000000</td>\n",
       "    </tr>\n",
       "  </tbody>\n",
       "</table>\n",
       "</div>"
      ],
      "text/plain": [
       "        GradeHigh  GradeHighCensus    EnrollTotal  EnrollCharter  \\\n",
       "count  944.000000       944.000000     944.000000     944.000000   \n",
       "mean     9.958686         9.653602    6425.233051     594.626059   \n",
       "std      2.135244         2.172743   22040.869205    5209.655649   \n",
       "min      5.000000         5.000000       3.000000       0.000000   \n",
       "25%      8.000000         8.000000     400.000000       0.000000   \n",
       "50%     12.000000         8.000000    2040.500000       0.000000   \n",
       "75%     12.000000        12.000000    6550.000000     226.500000   \n",
       "max     12.000000        12.000000  607723.000000  154447.000000   \n",
       "\n",
       "       EnrollNonCharter  AfricanAmericanPct  AmericanIndianPct    AsianPct  \\\n",
       "count        944.000000          944.000000         944.000000  944.000000   \n",
       "mean        5830.606992            2.568326           1.918644    5.368856   \n",
       "std        17345.904065            4.333551           6.817423    9.993284   \n",
       "min            0.000000            0.000000           0.000000    0.000000   \n",
       "25%          289.250000            0.400000           0.100000    0.500000   \n",
       "50%         1646.000000            1.100000           0.400000    1.600000   \n",
       "75%         6018.500000            2.700000           1.100000    5.100000   \n",
       "max       453276.000000           43.900002          86.699997   73.099998   \n",
       "\n",
       "       FilipinoPct  HispanicPct  MulitpleRacePct  PacificIslanderPct  \\\n",
       "count   944.000000   944.000000       944.000000          944.000000   \n",
       "mean      1.353284    45.025636         4.574788            0.364195   \n",
       "std       2.592887    28.123249         5.172701            0.974320   \n",
       "min       0.000000     0.000000         0.000000            0.000000   \n",
       "25%       0.000000    19.450000         1.200000            0.000000   \n",
       "50%       0.500000    40.799999         3.550000            0.200000   \n",
       "75%       1.400000    67.549999         6.600000            0.400000   \n",
       "max      30.200001   100.000000       100.000000           23.500000   \n",
       "\n",
       "         WhitePct  RaceNotReportedPct  EnglishLearnerPct   FosterPct  \\\n",
       "count  944.000000          944.000000         944.000000  944.000000   \n",
       "mean    37.744809            1.080720          17.504025    0.519703   \n",
       "std     25.597142            2.817625          16.198711    0.778866   \n",
       "min      0.000000            0.000000           0.000000    0.000000   \n",
       "25%     13.175000            0.000000           4.900000    0.100000   \n",
       "50%     36.850001            0.300000          13.050000    0.300000   \n",
       "75%     60.124999            1.100000          24.925000    0.700000   \n",
       "max    100.000000           46.000000          78.599998    8.300000   \n",
       "\n",
       "       HomelessPct  MigrantPct  DisabilityPct  SocioEconDisadvantagePct  \\\n",
       "count   944.000000  944.000000     944.000000                944.000000   \n",
       "mean      3.154449    1.519174      10.698411                 57.559110   \n",
       "std       5.547407    3.756048       3.865557                 25.054015   \n",
       "min       0.000000    0.000000       0.000000                  0.000000   \n",
       "25%       0.200000    0.000000       8.600000                 38.975001   \n",
       "50%       1.000000    0.000000      10.800000                 59.500000   \n",
       "75%       3.725000    1.100000      12.500000                 77.925002   \n",
       "max      58.200001   40.400002      35.700001                100.000000   \n",
       "\n",
       "        Unduplicated  UnduplicatedPct   CCPrepPct   AbsentPct     GradPct  \\\n",
       "count     944.000000       944.000000  403.000000  936.000000  464.000000   \n",
       "mean     3667.047669        60.406991   45.161787   11.681517   85.747845   \n",
       "std     13712.296227        24.968052   15.960657    7.979224   15.547711   \n",
       "min         0.000000         0.000000    3.000000    0.000000    3.100000   \n",
       "25%       157.000000        42.249999   35.649999    6.675000   85.000000   \n",
       "50%       784.500000        62.850001   43.400002   10.100000   90.049999   \n",
       "75%      3189.250000        81.124998   56.450001   14.500000   93.800003   \n",
       "max    376812.000000       100.000000   87.400002   65.400002  100.000000   \n",
       "\n",
       "       UCCSUReqMetPct  DropOutPct  EnrollCumulative     SuspPct  \\\n",
       "count      464.000000  464.000000        939.000000  939.000000   \n",
       "mean        41.782974    8.969828       6864.900958    3.401810   \n",
       "std         21.748206   12.620977      23068.520876    3.091488   \n",
       "min          0.000000    0.000000         11.000000    0.000000   \n",
       "25%         28.900000    2.900000        427.000000    1.350000   \n",
       "50%         41.700001    5.500000       2187.000000    2.700000   \n",
       "75%         53.700001    9.700000       6981.500000    4.800000   \n",
       "max        100.000000   93.800003     630838.000000   25.900000   \n",
       "\n",
       "        SHAPE_Length    SHAPE_Area      target  \n",
       "count     944.000000  9.440000e+02  944.000000  \n",
       "mean   137478.658644  8.992017e+08    0.243644  \n",
       "std    120833.689911  1.835299e+09    0.429508  \n",
       "min      2134.672224  2.821288e+05    0.000000  \n",
       "25%     54183.396949  8.853034e+07    0.000000  \n",
       "50%    101249.413155  2.769788e+08    0.000000  \n",
       "75%    180708.436455  8.492910e+08    0.000000  \n",
       "max    913155.411235  2.111754e+10    1.000000  "
      ]
     },
     "execution_count": 13,
     "metadata": {},
     "output_type": "execute_result"
    }
   ],
   "source": [
    "df.describe()"
   ]
  },
  {
   "cell_type": "code",
   "execution_count": 14,
   "metadata": {},
   "outputs": [],
   "source": [
    "df['smallenrollment'] = np.where(df['EnrollTotal'] <= df['EnrollTotal'].quantile(0.25), 1, 0)\n",
    "df['mediumenrollment'] = np.where(((df['EnrollTotal'] > df['EnrollTotal'].quantile(0.25)) & (df['EnrollTotal'] <= df['EnrollTotal'].quantile(0.5))), 1, 0)\n",
    "df['largeenrollment'] = np.where(((df['EnrollTotal'] > df['EnrollTotal'].quantile(0.5)) & (df['EnrollTotal'] <= df['EnrollTotal'].quantile(0.75))), 1, 0)\n",
    "df['xlenrollment'] = np.where((df['EnrollTotal'] > df['EnrollTotal'].quantile(0.75)), 1, 0)\n",
    "\n"
   ]
  },
  {
   "cell_type": "code",
   "execution_count": 15,
   "metadata": {},
   "outputs": [],
   "source": [
    "df['charterpct'] = df['EnrollCharter'] / df['EnrollTotal'] * 100\n",
    "df['noncharterpct'] = df['EnrollNonCharter'] / df['EnrollTotal'] * 100"
   ]
  },
  {
   "cell_type": "code",
   "execution_count": 16,
   "metadata": {},
   "outputs": [],
   "source": [
    "df.drop(columns = ['EnrollTotal', 'EnrollCharter', 'EnrollNonCharter'], inplace = True)"
   ]
  },
  {
   "cell_type": "code",
   "execution_count": 17,
   "metadata": {},
   "outputs": [],
   "source": [
    "df['unified'] = np.where(df['SchoolType'] == 'Unified', 1, 0)\n",
    "df['elem'] = np.where(df['SchoolType'] == 'Elementary', 1, 0)\n",
    "df['high'] = np.where(df['SchoolType'] == 'High', 1, 0)"
   ]
  },
  {
   "cell_type": "code",
   "execution_count": 18,
   "metadata": {},
   "outputs": [],
   "source": [
    "df.drop(columns = ['SchoolType'], inplace= True)"
   ]
  },
  {
   "cell_type": "code",
   "execution_count": 19,
   "metadata": {},
   "outputs": [
    {
     "data": {
      "text/plain": [
       "21 - Suburban, Large      235\n",
       "41 - Rural, Fringe        142\n",
       "42 - Rural, Distant       125\n",
       "32 - Town, Distant         68\n",
       "43 - Rural, Remote         63\n",
       "31 - Town, Fringe          56\n",
       "12 - City, Midsize         53\n",
       "11 - City, Large           51\n",
       "13 - City, Small           45\n",
       "22 - Suburban, Midsize     42\n",
       "33 - Town, Remote          33\n",
       "23 - Suburban, Small       31\n",
       "Name: LocaleDistrict, dtype: int64"
      ]
     },
     "execution_count": 19,
     "metadata": {},
     "output_type": "execute_result"
    }
   ],
   "source": [
    "df.LocaleDistrict.value_counts()"
   ]
  },
  {
   "cell_type": "code",
   "execution_count": 20,
   "metadata": {},
   "outputs": [],
   "source": [
    "df['LocaleDistrict'] = [ x[:2] for x in df['LocaleDistrict']]\n"
   ]
  },
  {
   "cell_type": "code",
   "execution_count": 21,
   "metadata": {},
   "outputs": [],
   "source": [
    "df['suburban'] = np.where(((df['LocaleDistrict'] == '21') | (df['LocaleDistrict'] == '23')), 1, 0)\n",
    "df['rural'] = np.where(((df['LocaleDistrict'] == '41') | (df['LocaleDistrict'] == '42') | (df['LocaleDistrict'] == '43')), 1, 0)\n",
    "df['town'] = np.where(((df['LocaleDistrict'] == '32') | (df['LocaleDistrict'] == '33')), 1, 0)\n",
    "df['city'] = np.where(((df['LocaleDistrict'] == '12') | (df['LocaleDistrict'] == '11') | (df['LocaleDistrict'] == '13')), 1, 0)\n",
    "df['assistance'] = np.where(df['AssistStatus'] == 'Differentiated Assistance', 1, 0)"
   ]
  },
  {
   "cell_type": "code",
   "execution_count": 22,
   "metadata": {},
   "outputs": [],
   "source": [
    "df.drop(columns = ['AssistStatus'], inplace= True)"
   ]
  },
  {
   "cell_type": "code",
   "execution_count": 23,
   "metadata": {},
   "outputs": [],
   "source": [
    "df.drop(columns = ['GradeLowCensus', 'GradeHighCensus'], inplace = True)"
   ]
  },
  {
   "cell_type": "code",
   "execution_count": null,
   "metadata": {},
   "outputs": [],
   "source": []
  },
  {
   "cell_type": "code",
   "execution_count": null,
   "metadata": {},
   "outputs": [],
   "source": []
  },
  {
   "cell_type": "markdown",
   "metadata": {},
   "source": [
    "#### Outliers"
   ]
  },
  {
   "cell_type": "code",
   "execution_count": 24,
   "metadata": {},
   "outputs": [
    {
     "data": {
      "image/png": "[encoded data removed]",
      "text/plain": [
       "<Figure size 1080x72 with 1 Axes>"
      ]
     },
     "metadata": {
      "needs_background": "light"
     },
     "output_type": "display_data"
    },
    {
     "data": {
      "image/png": "[encoded data removed]",
      "text/plain": [
       "<Figure size 1080x72 with 1 Axes>"
      ]
     },
     "metadata": {
      "needs_background": "light"
     },
     "output_type": "display_data"
    },
    {
     "data": {
      "image/png": "[encoded data removed]",
      "text/plain": [
       "<Figure size 1080x72 with 1 Axes>"
      ]
     },
     "metadata": {
      "needs_background": "light"
     },
     "output_type": "display_data"
    },
    {
     "data": {
      "image/png": "[encoded data removed]",
      "text/plain": [
       "<Figure size 1080x72 with 1 Axes>"
      ]
     },
     "metadata": {
      "needs_background": "light"
     },
     "output_type": "display_data"
    },
    {
     "data": {
      "image/png": "[encoded data removed]",
      "text/plain": [
       "<Figure size 1080x72 with 1 Axes>"
      ]
     },
     "metadata": {
      "needs_background": "light"
     },
     "output_type": "display_data"
    },
    {
     "data": {
      "image/png": "[encoded data removed]",
      "text/plain": [
       "<Figure size 1080x72 with 1 Axes>"
      ]
     },
     "metadata": {
      "needs_background": "light"
     },
     "output_type": "display_data"
    },
    {
     "data": {
      "image/png": "[encoded data removed]",
      "text/plain": [
       "<Figure size 1080x72 with 1 Axes>"
      ]
     },
     "metadata": {
      "needs_background": "light"
     },
     "output_type": "display_data"
    },
    {
     "data": {
      "image/png": "[encoded data removed]",
      "text/plain": [
       "<Figure size 1080x72 with 1 Axes>"
      ]
     },
     "metadata": {
      "needs_background": "light"
     },
     "output_type": "display_data"
    },
    {
     "data": {
      "image/png": "[encoded data removed]",
      "text/plain": [
       "<Figure size 1080x72 with 1 Axes>"
      ]
     },
     "metadata": {
      "needs_background": "light"
     },
     "output_type": "display_data"
    },
    {
     "data": {
      "image/png": "[encoded data removed]",
      "text/plain": [
       "<Figure size 1080x72 with 1 Axes>"
      ]
     },
     "metadata": {
      "needs_background": "light"
     },
     "output_type": "display_data"
    },
    {
     "data": {
      "image/png": "[encoded data removed]",
      "text/plain": [
       "<Figure size 1080x72 with 1 Axes>"
      ]
     },
     "metadata": {
      "needs_background": "light"
     },
     "output_type": "display_data"
    },
    {
     "data": {
      "image/png": "[encoded data removed]",
      "text/plain": [
       "<Figure size 1080x72 with 1 Axes>"
      ]
     },
     "metadata": {
      "needs_background": "light"
     },
     "output_type": "display_data"
    },
    {
     "data": {
      "image/png": "[encoded data removed]",
      "text/plain": [
       "<Figure size 1080x72 with 1 Axes>"
      ]
     },
     "metadata": {
      "needs_background": "light"
     },
     "output_type": "display_data"
    },
    {
     "data": {
      "image/png": "[encoded data removed]",
      "text/plain": [
       "<Figure size 1080x72 with 1 Axes>"
      ]
     },
     "metadata": {
      "needs_background": "light"
     },
     "output_type": "display_data"
    },
    {
     "data": {
      "image/png": "[encoded data removed]",
      "text/plain": [
       "<Figure size 1080x72 with 1 Axes>"
      ]
     },
     "metadata": {
      "needs_background": "light"
     },
     "output_type": "display_data"
    },
    {
     "data": {
      "image/png": "[encoded data removed]",
      "text/plain": [
       "<Figure size 1080x72 with 1 Axes>"
      ]
     },
     "metadata": {
      "needs_background": "light"
     },
     "output_type": "display_data"
    },
    {
     "data": {
      "image/png": "[encoded data removed]",
      "text/plain": [
       "<Figure size 1080x72 with 1 Axes>"
      ]
     },
     "metadata": {
      "needs_background": "light"
     },
     "output_type": "display_data"
    },
    {
     "data": {
      "image/png": "[encoded data removed]",
      "text/plain": [
       "<Figure size 1080x72 with 1 Axes>"
      ]
     },
     "metadata": {
      "needs_background": "light"
     },
     "output_type": "display_data"
    },
    {
     "data": {
      "image/png": "[encoded data removed]",
      "text/plain": [
       "<Figure size 1080x72 with 1 Axes>"
      ]
     },
     "metadata": {
      "needs_background": "light"
     },
     "output_type": "display_data"
    },
    {
     "data": {
      "image/png": "[encoded data removed]",
      "text/plain": [
       "<Figure size 1080x72 with 1 Axes>"
      ]
     },
     "metadata": {
      "needs_background": "light"
     },
     "output_type": "display_data"
    },
    {
     "data": {
      "image/png": "[encoded data removed]",
      "text/plain": [
       "<Figure size 1080x72 with 1 Axes>"
      ]
     },
     "metadata": {
      "needs_background": "light"
     },
     "output_type": "display_data"
    },
    {
     "data": {
      "image/png": "[encoded data removed]",
      "text/plain": [
       "<Figure size 1080x72 with 1 Axes>"
      ]
     },
     "metadata": {
      "needs_background": "light"
     },
     "output_type": "display_data"
    },
    {
     "data": {
      "image/png": "[encoded data removed]",
      "text/plain": [
       "<Figure size 1080x72 with 1 Axes>"
      ]
     },
     "metadata": {
      "needs_background": "light"
     },
     "output_type": "display_data"
    },
    {
     "data": {
      "image/png": "[encoded data removed]",
      "text/plain": [
       "<Figure size 1080x72 with 1 Axes>"
      ]
     },
     "metadata": {
      "needs_background": "light"
     },
     "output_type": "display_data"
    },
    {
     "data": {
      "image/png": "[encoded data removed]",
      "text/plain": [
       "<Figure size 1080x72 with 1 Axes>"
      ]
     },
     "metadata": {
      "needs_background": "light"
     },
     "output_type": "display_data"
    },
    {
     "data": {
      "image/png": "[encoded data removed]",
      "text/plain": [
       "<Figure size 1080x72 with 1 Axes>"
      ]
     },
     "metadata": {
      "needs_background": "light"
     },
     "output_type": "display_data"
    },
    {
     "data": {
      "image/png": "[encoded data removed]",
      "text/plain": [
       "<Figure size 1080x72 with 1 Axes>"
      ]
     },
     "metadata": {
      "needs_background": "light"
     },
     "output_type": "display_data"
    },
    {
     "data": {
      "image/png": "[encoded data removed]",
      "text/plain": [
       "<Figure size 1080x72 with 1 Axes>"
      ]
     },
     "metadata": {
      "needs_background": "light"
     },
     "output_type": "display_data"
    },
    {
     "data": {
      "image/png": "[encoded data removed]",
      "text/plain": [
       "<Figure size 1080x72 with 1 Axes>"
      ]
     },
     "metadata": {
      "needs_background": "light"
     },
     "output_type": "display_data"
    },
    {
     "data": {
      "image/png": "[encoded data removed]",
      "text/plain": [
       "<Figure size 1080x72 with 1 Axes>"
      ]
     },
     "metadata": {
      "needs_background": "light"
     },
     "output_type": "display_data"
    },
    {
     "data": {
      "image/png": "[encoded data removed]",
      "text/plain": [
       "<Figure size 1080x72 with 1 Axes>"
      ]
     },
     "metadata": {
      "needs_background": "light"
     },
     "output_type": "display_data"
    },
    {
     "data": {
      "image/png": "[encoded data removed]",
      "text/plain": [
       "<Figure size 1080x72 with 1 Axes>"
      ]
     },
     "metadata": {
      "needs_background": "light"
     },
     "output_type": "display_data"
    },
    {
     "data": {
      "image/png": "[encoded data removed]",
      "text/plain": [
       "<Figure size 1080x72 with 1 Axes>"
      ]
     },
     "metadata": {
      "needs_background": "light"
     },
     "output_type": "display_data"
    },
    {
     "data": {
      "image/png": "[encoded data removed]",
      "text/plain": [
       "<Figure size 1080x72 with 1 Axes>"
      ]
     },
     "metadata": {
      "needs_background": "light"
     },
     "output_type": "display_data"
    },
    {
     "data": {
      "image/png": "[encoded data removed]",
      "text/plain": [
       "<Figure size 1080x72 with 1 Axes>"
      ]
     },
     "metadata": {
      "needs_background": "light"
     },
     "output_type": "display_data"
    },
    {
     "data": {
      "image/png": "[encoded data removed]",
      "text/plain": [
       "<Figure size 1080x72 with 1 Axes>"
      ]
     },
     "metadata": {
      "needs_background": "light"
     },
     "output_type": "display_data"
    },
    {
     "data": {
      "image/png": "[encoded data removed]",
      "text/plain": [
       "<Figure size 1080x72 with 1 Axes>"
      ]
     },
     "metadata": {
      "needs_background": "light"
     },
     "output_type": "display_data"
    },
    {
     "data": {
      "image/png": "[encoded data removed]",
      "text/plain": [
       "<Figure size 1080x72 with 1 Axes>"
      ]
     },
     "metadata": {
      "needs_background": "light"
     },
     "output_type": "display_data"
    },
    {
     "data": {
      "image/png": "[encoded data removed]",
      "text/plain": [
       "<Figure size 1080x72 with 1 Axes>"
      ]
     },
     "metadata": {
      "needs_background": "light"
     },
     "output_type": "display_data"
    },
    {
     "data": {
      "image/png": "[encoded data removed]",
      "text/plain": [
       "<Figure size 1080x72 with 1 Axes>"
      ]
     },
     "metadata": {
      "needs_background": "light"
     },
     "output_type": "display_data"
    },
    {
     "data": {
      "image/png": "[encoded data removed]",
      "text/plain": [
       "<Figure size 1080x72 with 1 Axes>"
      ]
     },
     "metadata": {
      "needs_background": "light"
     },
     "output_type": "display_data"
    },
    {
     "data": {
      "image/png": "[encoded data removed]",
      "text/plain": [
       "<Figure size 1080x72 with 1 Axes>"
      ]
     },
     "metadata": {
      "needs_background": "light"
     },
     "output_type": "display_data"
    }
   ],
   "source": [
    "columns = list(df.columns)\n",
    "columns.remove('CountyName')\n",
    "columns.remove('SchoolName')\n",
    "columns.remove('GradeLow')\n",
    "columns.remove('CongressUS')\n",
    "columns.remove('SenateCA')\n",
    "columns.remove('AssemblyCA')\n",
    "columns.remove('LocaleDistrict')\n",
    "\n",
    "for item in columns:\n",
    "    plt.figure(figsize=(15,1))\n",
    "    sns.boxplot(data=df, x=item);"
   ]
  },
  {
   "cell_type": "code",
   "execution_count": 25,
   "metadata": {},
   "outputs": [],
   "source": [
    "df.loc[df['AfricanAmericanPct'] >= 30, 'AfricanAmericanPct'] = 30\n",
    "df.loc[df['AmericanIndianPct'] >= 40, 'AmericanIndianPct'] = 40\n",
    "df.loc[df['MulitpleRacePct'] >= 30, 'MulitpleRacePct'] = 30\n",
    "df.loc[df['PacificIslanderPct'] >= 10, 'PacificIslanderPct'] = 10\n",
    "df.loc[df['HomelessPct'] >= 40, 'HomelessPct'] = 40\n",
    "df.loc[df['MigrantPct'] >= 22, 'MigrantPct'] = 22\n",
    "df.loc[df['Unduplicated'] >= 50000, 'Unduplicated'] = 50000\n",
    "df.loc[df['EnrollCumulative'] >= 100000, 'EnrollCumulative'] = 100000"
   ]
  },
  {
   "cell_type": "code",
   "execution_count": 26,
   "metadata": {},
   "outputs": [
    {
     "data": {
      "text/plain": [
       "CountyName                    0\n",
       "SchoolName                    0\n",
       "GradeLow                      0\n",
       "GradeHigh                     0\n",
       "CongressUS                    0\n",
       "SenateCA                      0\n",
       "AssemblyCA                    0\n",
       "LocaleDistrict                0\n",
       "AfricanAmericanPct            0\n",
       "AmericanIndianPct             0\n",
       "AsianPct                      0\n",
       "FilipinoPct                   0\n",
       "HispanicPct                   0\n",
       "MulitpleRacePct               0\n",
       "PacificIslanderPct            0\n",
       "WhitePct                      0\n",
       "RaceNotReportedPct            0\n",
       "EnglishLearnerPct             0\n",
       "FosterPct                     0\n",
       "HomelessPct                   0\n",
       "MigrantPct                    0\n",
       "DisabilityPct                 0\n",
       "SocioEconDisadvantagePct      0\n",
       "Unduplicated                  0\n",
       "UnduplicatedPct               0\n",
       "CCPrepPct                   541\n",
       "AbsentPct                     8\n",
       "GradPct                     480\n",
       "UCCSUReqMetPct              480\n",
       "DropOutPct                  480\n",
       "EnrollCumulative              5\n",
       "SuspPct                       5\n",
       "SHAPE_Length                  0\n",
       "SHAPE_Area                    0\n",
       "target                        0\n",
       "smallenrollment               0\n",
       "mediumenrollment              0\n",
       "largeenrollment               0\n",
       "xlenrollment                  0\n",
       "charterpct                    0\n",
       "noncharterpct                 0\n",
       "unified                       0\n",
       "elem                          0\n",
       "high                          0\n",
       "suburban                      0\n",
       "rural                         0\n",
       "town                          0\n",
       "city                          0\n",
       "assistance                    0\n",
       "dtype: int64"
      ]
     },
     "execution_count": 26,
     "metadata": {},
     "output_type": "execute_result"
    }
   ],
   "source": [
    "df.isnull().sum()"
   ]
  },
  {
   "cell_type": "code",
   "execution_count": 27,
   "metadata": {},
   "outputs": [],
   "source": [
    "df['CCPrepPct'] = df['CCPrepPct'].replace(np.NaN, 0) \n",
    "df['AbsentPct'] = df['AbsentPct'].replace(np.NaN, 0) \n",
    "df['GradPct'] = df['GradPct'].replace(np.NaN, 0) \n",
    "df['UCCSUReqMetPct'] = df['UCCSUReqMetPct'].replace(np.NaN, 0) \n",
    "df['DropOutPct'] = df['DropOutPct'].replace(np.NaN, 0) \n",
    "df['EnrollCumulative'] = df['EnrollCumulative'].replace(np.NaN, 0) \n",
    "df['SuspPct'] = df['SuspPct'].replace(np.NaN, 0) \n"
   ]
  },
  {
   "cell_type": "markdown",
   "metadata": {},
   "source": [
    "## EDA"
   ]
  },
  {
   "cell_type": "code",
   "execution_count": 28,
   "metadata": {},
   "outputs": [],
   "source": [
    "# df.describe()"
   ]
  },
  {
   "cell_type": "code",
   "execution_count": 29,
   "metadata": {},
   "outputs": [],
   "source": [
    "# df.corr()"
   ]
  },
  {
   "cell_type": "code",
   "execution_count": 30,
   "metadata": {},
   "outputs": [],
   "source": [
    "# absenteligcount"
   ]
  },
  {
   "cell_type": "code",
   "execution_count": 31,
   "metadata": {},
   "outputs": [],
   "source": [
    "# df.hist(bins=10, figsize=(25,25))\n",
    "# plt.show()"
   ]
  },
  {
   "cell_type": "code",
   "execution_count": 32,
   "metadata": {},
   "outputs": [],
   "source": [
    "# # top 15 schools counties\n",
    "# y = df.groupby('CountyName')['ELAStdMetPct'].mean().sort_values(ascending=False).head(15)\n",
    "# x = y.index\n",
    "\n",
    "# plt.title('Top 15 ELA Average Percentages, By County',fontsize=14);\n",
    "# plt.xlabel('ELA Percent', fontsize=14);\n",
    "# plt.ylabel('County', fontsize=14);\n",
    "\n",
    "# plt.barh(x,y, color='cornflowerblue');\n",
    "# plt.gca().invert_yaxis()"
   ]
  },
  {
   "cell_type": "code",
   "execution_count": 33,
   "metadata": {},
   "outputs": [],
   "source": [
    "# Differentiated Assitance is additional help\n",
    "# df.AssistStatus.value_counts()"
   ]
  },
  {
   "cell_type": "code",
   "execution_count": 34,
   "metadata": {},
   "outputs": [],
   "source": [
    "# y = df.groupby('AssistStatus')['ELAStdMetPct'].mean().sort_values(ascending=True).head(2)\n",
    "# x = y.index\n",
    "\n",
    "# plt.title('ELA Average Percentages, By Assitance Level',fontsize=14);\n",
    "# plt.xlabel('ELA Percent', fontsize=14);\n",
    "# plt.ylabel('Assistance Level', fontsize=14);\n",
    "\n",
    "# plt.barh(x,y, color='cornflowerblue');\n",
    "# plt.gca().invert_yaxis()"
   ]
  },
  {
   "cell_type": "code",
   "execution_count": 35,
   "metadata": {},
   "outputs": [],
   "source": [
    "# y = df.groupby('LocaleDistrict')['ELAStdMetPct'].mean().sort_values(ascending=True)\n",
    "# x = y.index\n",
    "\n",
    "# plt.title('ELA Average Percentages, By School Type',fontsize=14);\n",
    "# plt.xlabel('ELA Percent', fontsize=14);\n",
    "# plt.ylabel('School Description', fontsize=14);\n",
    "\n",
    "# plt.barh(x,y, color='cornflowerblue');"
   ]
  },
  {
   "cell_type": "code",
   "execution_count": 36,
   "metadata": {},
   "outputs": [],
   "source": [
    "# visualization on school racial composition by county"
   ]
  },
  {
   "cell_type": "code",
   "execution_count": 37,
   "metadata": {},
   "outputs": [],
   "source": [
    "# x = df.SocioEconDisadvantagePct\n",
    "# y = df.ELAStdMetPct\n",
    "\n",
    "# plt.title('ELA Scores and Socioeconomic Disadvantaged Percentage',fontsize=14);\n",
    "# plt.xlabel('Socioeconomic Disadvataged %', fontsize=14);\n",
    "# plt.ylabel('ELA %', fontsize=14);\n",
    "\n",
    "# plt.scatter(x,y, color='cornflowerblue');\n",
    "\n",
    "# #### The more socioeconomic desadvantages present, the lower the passing rate of the ELA exam"
   ]
  },
  {
   "cell_type": "code",
   "execution_count": null,
   "metadata": {},
   "outputs": [],
   "source": []
  },
  {
   "cell_type": "markdown",
   "metadata": {},
   "source": [
    "## Modeling"
   ]
  },
  {
   "cell_type": "code",
   "execution_count": 146,
   "metadata": {},
   "outputs": [],
   "source": [
    "df2 = df.select_dtypes(exclude=['object']) # excluding objects"
   ]
  },
  {
   "cell_type": "code",
   "execution_count": 147,
   "metadata": {},
   "outputs": [],
   "source": [
    "# features\n",
    "X = df2.drop('target', axis = 1) \n",
    "# target variable\n",
    "y = df2['target']"
   ]
  },
  {
   "cell_type": "code",
   "execution_count": 148,
   "metadata": {},
   "outputs": [],
   "source": [
    "df_features = df.drop('target', axis = 1)"
   ]
  },
  {
   "cell_type": "code",
   "execution_count": 149,
   "metadata": {},
   "outputs": [],
   "source": [
    "X_train, X_test, y_train, y_test = train_test_split(\n",
    "    X, y, test_size=.2, random_state=20)"
   ]
  },
  {
   "cell_type": "code",
   "execution_count": 150,
   "metadata": {},
   "outputs": [
    {
     "ename": "NameError",
     "evalue": "name 'TomekLinks' is not defined",
     "output_type": "error",
     "traceback": [
      "\u001b[0;31m---------------------------------------------------------------------------\u001b[0m",
      "\u001b[0;31mNameError\u001b[0m                                 Traceback (most recent call last)",
      "\u001b[0;32m<ipython-input-150-4d40ddd8c294>\u001b[0m in \u001b[0;36m<module>\u001b[0;34m()\u001b[0m\n\u001b[0;32m----> 1\u001b[0;31m \u001b[0mtl\u001b[0m \u001b[0;34m=\u001b[0m \u001b[0mTomekLinks\u001b[0m\u001b[0;34m(\u001b[0m\u001b[0;34m)\u001b[0m\u001b[0;34m\u001b[0m\u001b[0;34m\u001b[0m\u001b[0m\n\u001b[0m\u001b[1;32m      2\u001b[0m \u001b[0mX_train\u001b[0m\u001b[0;34m,\u001b[0m \u001b[0my_train\u001b[0m \u001b[0;34m=\u001b[0m \u001b[0mtl\u001b[0m\u001b[0;34m.\u001b[0m\u001b[0mfit_resample\u001b[0m\u001b[0;34m(\u001b[0m\u001b[0mX_train\u001b[0m\u001b[0;34m,\u001b[0m \u001b[0my_train\u001b[0m\u001b[0;34m)\u001b[0m\u001b[0;34m\u001b[0m\u001b[0;34m\u001b[0m\u001b[0m\n",
      "\u001b[0;31mNameError\u001b[0m: name 'TomekLinks' is not defined"
     ]
    }
   ],
   "source": [
    "tl = TomekLinks()\n",
    "X_train, y_train = tl.fit_resample(X_train, y_train)"
   ]
  },
  {
   "cell_type": "markdown",
   "metadata": {},
   "source": [
    "### Logistic Regression"
   ]
  },
  {
   "cell_type": "code",
   "execution_count": null,
   "metadata": {},
   "outputs": [],
   "source": [
    "logreg = LogisticRegression(max_iter=500)\n",
    "logreg.fit(X_train, y_train)"
   ]
  },
  {
   "cell_type": "code",
   "execution_count": null,
   "metadata": {},
   "outputs": [],
   "source": [
    "y_pred_logreg = logreg.predict(X_test)"
   ]
  },
  {
   "cell_type": "code",
   "execution_count": null,
   "metadata": {},
   "outputs": [],
   "source": [
    "THRESHOLD = .4\n",
    "y_pred_logreg = np.where(logreg.predict_proba(X_test)[:,1] > THRESHOLD, 1, 0)\n"
   ]
  },
  {
   "cell_type": "code",
   "execution_count": null,
   "metadata": {},
   "outputs": [],
   "source": [
    "print(metrics.accuracy_score(y_test, y_pred_logreg))\n",
    "print(metrics.recall_score(y_test, y_pred_logreg))\n",
    "print(metrics.precision_score(y_test, y_pred_logreg))\n",
    "print(metrics.f1_score(y_test, y_pred_logreg))"
   ]
  },
  {
   "cell_type": "code",
   "execution_count": 151,
   "metadata": {},
   "outputs": [],
   "source": [
    "metric_dict = {}\n",
    "metric_dict['LogisticRegression'] = {'accuracy': metrics.accuracy_score(y_test, y_pred_logreg),\n",
    "                                     'precision':metrics.precision_score(y_test, y_pred_logreg),\n",
    "                                     'recall':metrics.recall_score(y_test, y_pred_logreg),\n",
    "                                     'f1':metrics.f1_score(y_test, y_pred_logreg)}"
   ]
  },
  {
   "cell_type": "markdown",
   "metadata": {},
   "source": [
    "### KNN"
   ]
  },
  {
   "cell_type": "code",
   "execution_count": 152,
   "metadata": {},
   "outputs": [],
   "source": [
    "scaler = StandardScaler()  \n",
    "scaler.fit(X_train)\n",
    "\n",
    "X_train = scaler.transform(X_train)  \n",
    "X_test = scaler.transform(X_test)"
   ]
  },
  {
   "cell_type": "code",
   "execution_count": 153,
   "metadata": {},
   "outputs": [],
   "source": [
    "knn = KNeighborsClassifier(n_neighbors=25)"
   ]
  },
  {
   "cell_type": "code",
   "execution_count": 154,
   "metadata": {},
   "outputs": [
    {
     "data": {
      "text/plain": [
       "KNeighborsClassifier(n_neighbors=25)"
      ]
     },
     "execution_count": 154,
     "metadata": {},
     "output_type": "execute_result"
    }
   ],
   "source": [
    "knn.fit(X_train, y_train)"
   ]
  },
  {
   "cell_type": "code",
   "execution_count": 155,
   "metadata": {},
   "outputs": [],
   "source": [
    "y_pred_knn = knn.predict(X_test)"
   ]
  },
  {
   "cell_type": "code",
   "execution_count": 156,
   "metadata": {},
   "outputs": [],
   "source": [
    "# print(metrics.accuracy_score(y_test, y_pred_knn))\n",
    "# print(metrics.recall_score(y_test, y_pred_knn))\n",
    "# print(metrics.precision_score(y_test, y_pred_knn))\n",
    "# print(metrics.f1_score(y_test, y_pred_knn))"
   ]
  },
  {
   "cell_type": "code",
   "execution_count": 157,
   "metadata": {},
   "outputs": [],
   "source": [
    "metric_dict['KNN'] = {'accuracy': metrics.accuracy_score(y_test, y_pred_knn),\n",
    "                      'precision':metrics.precision_score(y_test, y_pred_knn),\n",
    "                      'recall':metrics.recall_score(y_test, y_pred_knn),\n",
    "                      'f1':metrics.f1_score(y_test, y_pred_knn)}"
   ]
  },
  {
   "cell_type": "markdown",
   "metadata": {},
   "source": [
    "### Decision Tree"
   ]
  },
  {
   "cell_type": "code",
   "execution_count": 181,
   "metadata": {},
   "outputs": [],
   "source": [
    "decision_tree = DecisionTreeClassifier(random_state=1)"
   ]
  },
  {
   "cell_type": "code",
   "execution_count": 182,
   "metadata": {},
   "outputs": [],
   "source": [
    "param_dict={'max_depth': range(1,10),\n",
    "            'criterion': ['gini', 'entropy'],\n",
    "            'splitter': ['random', 'best'],\n",
    "            'max_features': ['auto', 'sqrt', 'log2']}"
   ]
  },
  {
   "cell_type": "code",
   "execution_count": 183,
   "metadata": {},
   "outputs": [],
   "source": [
    "grid_tree=GridSearchCV(decision_tree, \n",
    "                       param_dict, \n",
    "                       cv=10, \n",
    "                       scoring='f1', \n",
    "                       verbose=1, \n",
    "                       n_jobs=-1)"
   ]
  },
  {
   "cell_type": "code",
   "execution_count": 193,
   "metadata": {},
   "outputs": [
    {
     "name": "stdout",
     "output_type": "stream",
     "text": [
      "Fitting 10 folds for each of 108 candidates, totalling 1080 fits\n"
     ]
    },
    {
     "name": "stderr",
     "output_type": "stream",
     "text": [
      "[Parallel(n_jobs=-1)]: Using backend LokyBackend with 8 concurrent workers.\n",
      "[Parallel(n_jobs=-1)]: Done  56 tasks      | elapsed:    0.2s\n",
      "[Parallel(n_jobs=-1)]: Done 1080 out of 1080 | elapsed:    1.2s finished\n"
     ]
    },
    {
     "data": {
      "text/plain": [
       "GridSearchCV(cv=10, estimator=DecisionTreeClassifier(random_state=1), n_jobs=-1,\n",
       "             param_grid={'criterion': ['gini', 'entropy'],\n",
       "                         'max_depth': range(1, 10),\n",
       "                         'max_features': ['auto', 'sqrt', 'log2'],\n",
       "                         'splitter': ['random', 'best']},\n",
       "             scoring='f1', verbose=1)"
      ]
     },
     "execution_count": 193,
     "metadata": {},
     "output_type": "execute_result"
    }
   ],
   "source": [
    "grid_tree.fit(X_train,y_train)"
   ]
  },
  {
   "cell_type": "code",
   "execution_count": 185,
   "metadata": {},
   "outputs": [],
   "source": [
    "y_pred_dtc = grid_tree.best_estimator_.predict(X_test)"
   ]
  },
  {
   "cell_type": "code",
   "execution_count": 186,
   "metadata": {},
   "outputs": [],
   "source": [
    "# print(metrics.accuracy_score(y_test, y_pred_dtc))\n",
    "# print(metrics.recall_score(y_test, y_pred_dtc))\n",
    "# print(metrics.precision_score(y_test, y_pred_dtc))\n",
    "# print(metrics.f1_score(y_test, y_pred_dtc))"
   ]
  },
  {
   "cell_type": "code",
   "execution_count": 187,
   "metadata": {},
   "outputs": [],
   "source": [
    "metric_dict['DecisionTree'] = {'accuracy': metrics.accuracy_score(y_test, y_pred_dtc),\n",
    "                              'precision':metrics.precision_score(y_test, y_pred_dtc),\n",
    "                              'recall':metrics.recall_score(y_test, y_pred_dtc),\n",
    "                              'f1':metrics.f1_score(y_test, y_pred_dtc)}"
   ]
  },
  {
   "cell_type": "code",
   "execution_count": 189,
   "metadata": {},
   "outputs": [],
   "source": [
    "import graphviz"
   ]
  },
  {
   "cell_type": "code",
   "execution_count": 196,
   "metadata": {},
   "outputs": [
    {
     "ename": "AttributeError",
     "evalue": "'DecisionTreeClassifier' object has no attribute 'export_graphviz'",
     "output_type": "error",
     "traceback": [
      "\u001b[0;31m-----------------------------------------------------------------\u001b[0m",
      "\u001b[0;31mAttributeError\u001b[0m                  Traceback (most recent call last)",
      "\u001b[0;32m<ipython-input-196-3471663fb0eb>\u001b[0m in \u001b[0;36m<module>\u001b[0;34m()\u001b[0m\n\u001b[1;32m      1\u001b[0m \u001b[0;34m\u001b[0m\u001b[0m\n\u001b[1;32m      2\u001b[0m \u001b[0;31m# DOT data\u001b[0m\u001b[0;34m\u001b[0m\u001b[0;34m\u001b[0m\u001b[0;34m\u001b[0m\u001b[0m\n\u001b[0;32m----> 3\u001b[0;31m dot_data = decision_tree.export_graphviz(clf, out_file=None, \n\u001b[0m\u001b[1;32m      4\u001b[0m                                 \u001b[0mfeature_names\u001b[0m\u001b[0;34m=\u001b[0m\u001b[0miris\u001b[0m\u001b[0;34m.\u001b[0m\u001b[0mfeature_names\u001b[0m\u001b[0;34m,\u001b[0m\u001b[0;34m\u001b[0m\u001b[0;34m\u001b[0m\u001b[0m\n\u001b[1;32m      5\u001b[0m                                 \u001b[0mclass_names\u001b[0m\u001b[0;34m=\u001b[0m\u001b[0miris\u001b[0m\u001b[0;34m.\u001b[0m\u001b[0mtarget_names\u001b[0m\u001b[0;34m,\u001b[0m\u001b[0;34m\u001b[0m\u001b[0;34m\u001b[0m\u001b[0m\n",
      "\u001b[0;31mAttributeError\u001b[0m: 'DecisionTreeClassifier' object has no attribute 'export_graphviz'"
     ]
    }
   ],
   "source": [
    "\n",
    "# DOT data\n",
    "dot_data = decision_tree.export_graphviz(clf, out_file=None, \n",
    "                                feature_names=iris.feature_names,  \n",
    "                                class_names=iris.target_names,\n",
    "                                filled=True)\n",
    "\n",
    "# Draw graph\n",
    "graph = graphviz.Source(dot_data, format=\"png\") \n",
    "graph"
   ]
  },
  {
   "cell_type": "code",
   "execution_count": 197,
   "metadata": {},
   "outputs": [
    {
     "ename": "AttributeError",
     "evalue": "'DecisionTreeClassifier' object has no attribute 'plot_tree'",
     "output_type": "error",
     "traceback": [
      "\u001b[0;31m-----------------------------------------------------------------\u001b[0m",
      "\u001b[0;31mAttributeError\u001b[0m                  Traceback (most recent call last)",
      "\u001b[0;32m<ipython-input-197-3ed788d24a7d>\u001b[0m in \u001b[0;36m<module>\u001b[0;34m()\u001b[0m\n\u001b[1;32m      1\u001b[0m \u001b[0mfig\u001b[0m \u001b[0;34m=\u001b[0m \u001b[0mplt\u001b[0m\u001b[0;34m.\u001b[0m\u001b[0mfigure\u001b[0m\u001b[0;34m(\u001b[0m\u001b[0mfigsize\u001b[0m\u001b[0;34m=\u001b[0m\u001b[0;34m(\u001b[0m\u001b[0;36m25\u001b[0m\u001b[0;34m,\u001b[0m\u001b[0;36m20\u001b[0m\u001b[0;34m)\u001b[0m\u001b[0;34m)\u001b[0m\u001b[0;34m\u001b[0m\u001b[0;34m\u001b[0m\u001b[0m\n\u001b[0;32m----> 2\u001b[0;31m _ = decision_tree.plot_tree(clf, \n\u001b[0m\u001b[1;32m      3\u001b[0m                    \u001b[0mfeature_names\u001b[0m\u001b[0;34m=\u001b[0m\u001b[0miris\u001b[0m\u001b[0;34m.\u001b[0m\u001b[0mfeature_names\u001b[0m\u001b[0;34m,\u001b[0m\u001b[0;34m\u001b[0m\u001b[0;34m\u001b[0m\u001b[0m\n\u001b[1;32m      4\u001b[0m                    \u001b[0mclass_names\u001b[0m\u001b[0;34m=\u001b[0m\u001b[0miris\u001b[0m\u001b[0;34m.\u001b[0m\u001b[0mtarget_names\u001b[0m\u001b[0;34m,\u001b[0m\u001b[0;34m\u001b[0m\u001b[0;34m\u001b[0m\u001b[0m\n\u001b[1;32m      5\u001b[0m                    filled=True)\n",
      "\u001b[0;31mAttributeError\u001b[0m: 'DecisionTreeClassifier' object has no attribute 'plot_tree'"
     ]
    },
    {
     "data": {
      "text/plain": [
       "<Figure size 1800x1440 with 0 Axes>"
      ]
     },
     "metadata": {},
     "output_type": "display_data"
    }
   ],
   "source": [
    "fig = plt.figure(figsize=(25,20))\n",
    "_ = decision_tree.plot_tree(clf, \n",
    "                   feature_names=iris.feature_names,  \n",
    "                   class_names=iris.target_names,\n",
    "                   filled=True)"
   ]
  },
  {
   "cell_type": "code",
   "execution_count": 202,
   "metadata": {},
   "outputs": [
    {
     "name": "stdout",
     "output_type": "stream",
     "text": [
      "Collecting dtreeviz\n",
      "  Downloading dtreeviz-1.1.2.tar.gz (48 kB)\n",
      "\u001b[K     |████████████████████████████████| 48 kB 4.2 MB/s eta 0:00:011\n",
      "\u001b[?25hRequirement already satisfied: graphviz>=0.9 in /opt/anaconda3/envs/learn-env/lib/python3.6/site-packages (from dtreeviz) (0.14.2)\n",
      "Requirement already satisfied: pandas in /opt/anaconda3/envs/learn-env/lib/python3.6/site-packages (from dtreeviz) (0.25.3)\n",
      "Requirement already satisfied: numpy in /opt/anaconda3/envs/learn-env/lib/python3.6/site-packages (from dtreeviz) (1.19.1)\n",
      "Requirement already satisfied: scikit-learn in /opt/anaconda3/envs/learn-env/lib/python3.6/site-packages (from dtreeviz) (0.23.2)\n",
      "Requirement already satisfied: matplotlib in /opt/anaconda3/envs/learn-env/lib/python3.6/site-packages (from dtreeviz) (3.1.1)\n",
      "Collecting colour\n",
      "  Downloading colour-0.1.5-py2.py3-none-any.whl (23 kB)\n",
      "Collecting xgboost\n",
      "  Downloading xgboost-1.2.1-py3-none-macosx_10_13_x86_64.macosx_10_14_x86_64.macosx_10_15_x86_64.whl (1.2 MB)\n",
      "\u001b[K     |████████████████████████████████| 1.2 MB 17.3 MB/s eta 0:00:01\n",
      "\u001b[?25hCollecting pytest\n",
      "  Downloading pytest-6.1.2-py3-none-any.whl (272 kB)\n",
      "\u001b[K     |████████████████████████████████| 272 kB 23.9 MB/s eta 0:00:01\n",
      "\u001b[?25hRequirement already satisfied: pyspark in /opt/anaconda3/envs/learn-env/lib/python3.6/site-packages (from dtreeviz) (2.4.4)\n",
      "Requirement already satisfied: python-dateutil>=2.6.1 in /opt/anaconda3/envs/learn-env/lib/python3.6/site-packages (from pandas->dtreeviz) (2.8.1)\n",
      "Requirement already satisfied: pytz>=2017.2 in /opt/anaconda3/envs/learn-env/lib/python3.6/site-packages (from pandas->dtreeviz) (2020.1)\n",
      "Requirement already satisfied: threadpoolctl>=2.0.0 in /opt/anaconda3/envs/learn-env/lib/python3.6/site-packages (from scikit-learn->dtreeviz) (2.1.0)\n",
      "Requirement already satisfied: scipy>=0.19.1 in /opt/anaconda3/envs/learn-env/lib/python3.6/site-packages (from scikit-learn->dtreeviz) (1.5.0)\n",
      "Requirement already satisfied: joblib>=0.11 in /opt/anaconda3/envs/learn-env/lib/python3.6/site-packages (from scikit-learn->dtreeviz) (0.16.0)\n",
      "Requirement already satisfied: pyparsing!=2.0.4,!=2.1.2,!=2.1.6,>=2.0.1 in /opt/anaconda3/envs/learn-env/lib/python3.6/site-packages (from matplotlib->dtreeviz) (2.4.7)\n",
      "Requirement already satisfied: kiwisolver>=1.0.1 in /opt/anaconda3/envs/learn-env/lib/python3.6/site-packages (from matplotlib->dtreeviz) (1.2.0)\n",
      "Requirement already satisfied: cycler>=0.10 in /opt/anaconda3/envs/learn-env/lib/python3.6/site-packages (from matplotlib->dtreeviz) (0.10.0)\n",
      "Collecting iniconfig\n",
      "  Downloading iniconfig-1.1.1-py2.py3-none-any.whl (5.0 kB)\n",
      "Collecting py>=1.8.2\n",
      "  Downloading py-1.9.0-py2.py3-none-any.whl (99 kB)\n",
      "\u001b[K     |████████████████████████████████| 99 kB 18.1 MB/s eta 0:00:01\n",
      "\u001b[?25hCollecting pluggy<1.0,>=0.12\n",
      "  Downloading pluggy-0.13.1-py2.py3-none-any.whl (18 kB)\n",
      "Requirement already satisfied: importlib-metadata>=0.12; python_version < \"3.8\" in /opt/anaconda3/envs/learn-env/lib/python3.6/site-packages (from pytest->dtreeviz) (1.7.0)\n",
      "Requirement already satisfied: packaging in /opt/anaconda3/envs/learn-env/lib/python3.6/site-packages (from pytest->dtreeviz) (20.4)\n",
      "Requirement already satisfied: attrs>=17.4.0 in /opt/anaconda3/envs/learn-env/lib/python3.6/site-packages (from pytest->dtreeviz) (19.3.0)\n",
      "Collecting toml\n",
      "  Downloading toml-0.10.2-py2.py3-none-any.whl (16 kB)\n",
      "Requirement already satisfied: py4j==0.10.7 in /opt/anaconda3/envs/learn-env/lib/python3.6/site-packages (from pyspark->dtreeviz) (0.10.7)\n",
      "Requirement already satisfied: six>=1.5 in /opt/anaconda3/envs/learn-env/lib/python3.6/site-packages (from python-dateutil>=2.6.1->pandas->dtreeviz) (1.15.0)\n",
      "Requirement already satisfied: zipp>=0.5 in /opt/anaconda3/envs/learn-env/lib/python3.6/site-packages (from importlib-metadata>=0.12; python_version < \"3.8\"->pytest->dtreeviz) (3.1.0)\n",
      "Building wheels for collected packages: dtreeviz\n",
      "  Building wheel for dtreeviz (setup.py) ... \u001b[?25ldone\n",
      "\u001b[?25h  Created wheel for dtreeviz: filename=dtreeviz-1.1.2-py3-none-any.whl size=52361 sha256=e9dab2cc4b86779fd25c6119d787629b47355fe2c1dbefe9ad7ca51e7b41b8d0\n",
      "  Stored in directory: /Users/ameliadahm/Library/Caches/pip/wheels/02/80/7f/ca7de2844a0a14572e7ec4dde44b5264ba463b42dca33ac394\n",
      "Successfully built dtreeviz\n",
      "Installing collected packages: colour, xgboost, iniconfig, py, pluggy, toml, pytest, dtreeviz\n",
      "Successfully installed colour-0.1.5 dtreeviz-1.1.2 iniconfig-1.1.1 pluggy-0.13.1 py-1.9.0 pytest-6.1.2 toml-0.10.2 xgboost-1.2.1\n"
     ]
    }
   ],
   "source": [
    "!pip install dtreeviz"
   ]
  },
  {
   "cell_type": "code",
   "execution_count": 204,
   "metadata": {},
   "outputs": [],
   "source": [
    "import dtreeviz"
   ]
  },
  {
   "cell_type": "code",
   "execution_count": 207,
   "metadata": {},
   "outputs": [
    {
     "ename": "AttributeError",
     "evalue": "'DataFrame' object has no attribute 'feature_names'",
     "output_type": "error",
     "traceback": [
      "\u001b[0;31m-----------------------------------------------------------------\u001b[0m",
      "\u001b[0;31mAttributeError\u001b[0m                  Traceback (most recent call last)",
      "\u001b[0;32m<ipython-input-207-b07efe19d8c3>\u001b[0m in \u001b[0;36m<module>\u001b[0;34m()\u001b[0m\n\u001b[1;32m      3\u001b[0m viz = dtreeviz(decision_tree, X, y,\n\u001b[1;32m      4\u001b[0m                \u001b[0mtarget_name\u001b[0m\u001b[0;34m=\u001b[0m\u001b[0;34m\"target\"\u001b[0m\u001b[0;34m,\u001b[0m\u001b[0;34m\u001b[0m\u001b[0;34m\u001b[0m\u001b[0m\n\u001b[0;32m----> 5\u001b[0;31m                \u001b[0mfeature_names\u001b[0m\u001b[0;34m=\u001b[0m\u001b[0mX\u001b[0m\u001b[0;34m.\u001b[0m\u001b[0mfeature_names\u001b[0m\u001b[0;34m,\u001b[0m\u001b[0;34m\u001b[0m\u001b[0;34m\u001b[0m\u001b[0m\n\u001b[0m\u001b[1;32m      6\u001b[0m                class_names=list(X.target_names))\n\u001b[1;32m      7\u001b[0m \u001b[0;34m\u001b[0m\u001b[0m\n",
      "\u001b[0;32m/opt/anaconda3/envs/learn-env/lib/python3.6/site-packages/pandas/core/generic.py\u001b[0m in \u001b[0;36m__getattr__\u001b[0;34m(self, name)\u001b[0m\n\u001b[1;32m   5177\u001b[0m             \u001b[0;32mif\u001b[0m \u001b[0mself\u001b[0m\u001b[0;34m.\u001b[0m\u001b[0m_info_axis\u001b[0m\u001b[0;34m.\u001b[0m\u001b[0m_can_hold_identifiers_and_holds_name\u001b[0m\u001b[0;34m(\u001b[0m\u001b[0mname\u001b[0m\u001b[0;34m)\u001b[0m\u001b[0;34m:\u001b[0m\u001b[0;34m\u001b[0m\u001b[0;34m\u001b[0m\u001b[0m\n\u001b[1;32m   5178\u001b[0m                 \u001b[0;32mreturn\u001b[0m \u001b[0mself\u001b[0m\u001b[0;34m[\u001b[0m\u001b[0mname\u001b[0m\u001b[0;34m]\u001b[0m\u001b[0;34m\u001b[0m\u001b[0;34m\u001b[0m\u001b[0m\n\u001b[0;32m-> 5179\u001b[0;31m             \u001b[0;32mreturn\u001b[0m \u001b[0mobject\u001b[0m\u001b[0;34m.\u001b[0m\u001b[0m__getattribute__\u001b[0m\u001b[0;34m(\u001b[0m\u001b[0mself\u001b[0m\u001b[0;34m,\u001b[0m \u001b[0mname\u001b[0m\u001b[0;34m)\u001b[0m\u001b[0;34m\u001b[0m\u001b[0;34m\u001b[0m\u001b[0m\n\u001b[0m\u001b[1;32m   5180\u001b[0m \u001b[0;34m\u001b[0m\u001b[0m\n\u001b[1;32m   5181\u001b[0m     \u001b[0;32mdef\u001b[0m \u001b[0m__setattr__\u001b[0m\u001b[0;34m(\u001b[0m\u001b[0mself\u001b[0m\u001b[0;34m,\u001b[0m \u001b[0mname\u001b[0m\u001b[0;34m,\u001b[0m \u001b[0mvalue\u001b[0m\u001b[0;34m)\u001b[0m\u001b[0;34m:\u001b[0m\u001b[0;34m\u001b[0m\u001b[0;34m\u001b[0m\u001b[0m\n",
      "\u001b[0;31mAttributeError\u001b[0m: 'DataFrame' object has no attribute 'feature_names'"
     ]
    }
   ],
   "source": [
    " # remember to load the package\n",
    "\n",
    "viz = dtreeviz(decision_tree, X, y,\n",
    "                target_name=\"target\",\n",
    "                feature_names=X.feature_names,\n",
    "                class_names=list(X.target_names))\n",
    "\n",
    "viz\n"
   ]
  },
  {
   "cell_type": "markdown",
   "metadata": {},
   "source": [
    "### Bagged Decision Tree"
   ]
  },
  {
   "cell_type": "code",
   "execution_count": 165,
   "metadata": {},
   "outputs": [],
   "source": [
    "bc_dtc = BaggingClassifier(\n",
    "            base_estimator=DecisionTreeClassifier(random_state = 1, max_depth=5, class_weight='balanced'), \n",
    "            n_estimators= 2000,\n",
    "            max_samples= 0.8,\n",
    "            max_features= 20,\n",
    "            oob_score= True\n",
    "                )\n"
   ]
  },
  {
   "cell_type": "code",
   "execution_count": 166,
   "metadata": {},
   "outputs": [
    {
     "data": {
      "text/plain": [
       "BaggingClassifier(base_estimator=DecisionTreeClassifier(class_weight='balanced',\n",
       "                                                        max_depth=5,\n",
       "                                                        random_state=1),\n",
       "                  max_features=20, max_samples=0.8, n_estimators=2000,\n",
       "                  oob_score=True)"
      ]
     },
     "execution_count": 166,
     "metadata": {},
     "output_type": "execute_result"
    }
   ],
   "source": [
    "bc_dtc.fit(X_train, y_train)"
   ]
  },
  {
   "cell_type": "code",
   "execution_count": 167,
   "metadata": {},
   "outputs": [],
   "source": [
    "y_pred_bc_dtc = bc_dtc.predict(X_test)"
   ]
  },
  {
   "cell_type": "code",
   "execution_count": 168,
   "metadata": {},
   "outputs": [],
   "source": [
    "THRESHOLD = .4\n",
    "y_pred_bc_dtc = np.where(bc_dtc.predict_proba(X_test)[:,1] > THRESHOLD, 1, 0)"
   ]
  },
  {
   "cell_type": "code",
   "execution_count": 169,
   "metadata": {},
   "outputs": [
    {
     "name": "stdout",
     "output_type": "stream",
     "text": [
      "0.8783068783068783\n",
      "0.76\n",
      "0.7755102040816326\n",
      "0.7676767676767676\n"
     ]
    }
   ],
   "source": [
    "print(metrics.accuracy_score(y_test, y_pred_bc_dtc))\n",
    "print(metrics.recall_score(y_test, y_pred_bc_dtc))\n",
    "print(metrics.precision_score(y_test, y_pred_bc_dtc))\n",
    "print(metrics.f1_score(y_test, y_pred_bc_dtc))"
   ]
  },
  {
   "cell_type": "code",
   "execution_count": 170,
   "metadata": {},
   "outputs": [],
   "source": [
    "metric_dict['BaggedDecisionTree'] = {'accuracy': metrics.accuracy_score(y_test, y_pred_bc_dtc),\n",
    "                                      'precision':metrics.precision_score(y_test, y_pred_bc_dtc),\n",
    "                                      'recall':metrics.recall_score(y_test, y_pred_bc_dtc),\n",
    "                                      'f1':metrics.f1_score(y_test, y_pred_bc_dtc)}"
   ]
  },
  {
   "cell_type": "markdown",
   "metadata": {},
   "source": [
    "### Random Forest"
   ]
  },
  {
   "cell_type": "code",
   "execution_count": 171,
   "metadata": {},
   "outputs": [],
   "source": [
    "rfc = RandomForestClassifier(random_state = 1, \n",
    "                             n_estimators=50, \n",
    "                             max_depth=10, \n",
    "                             max_features=20)"
   ]
  },
  {
   "cell_type": "code",
   "execution_count": 172,
   "metadata": {},
   "outputs": [
    {
     "data": {
      "text/plain": [
       "RandomForestClassifier(max_depth=10, max_features=20, n_estimators=50,\n",
       "                       random_state=1)"
      ]
     },
     "execution_count": 172,
     "metadata": {},
     "output_type": "execute_result"
    }
   ],
   "source": [
    "rfc.fit(X_train, y_train)"
   ]
  },
  {
   "cell_type": "code",
   "execution_count": 173,
   "metadata": {},
   "outputs": [],
   "source": [
    "y_pred_rfc = rfc.predict(X_test)"
   ]
  },
  {
   "cell_type": "code",
   "execution_count": 174,
   "metadata": {},
   "outputs": [],
   "source": [
    "# print(metrics.accuracy_score(y_test, y_pred_rfc))\n",
    "# print(metrics.recall_score(y_test, y_pred_rfc))\n",
    "# print(metrics.precision_score(y_test, y_pred_rfc))\n",
    "# print(metrics.f1_score(y_test, y_pred_rfc))"
   ]
  },
  {
   "cell_type": "code",
   "execution_count": 175,
   "metadata": {},
   "outputs": [],
   "source": [
    "metric_dict['RandomForest'] = {'accuracy': metrics.accuracy_score(y_test, y_pred_rfc),\n",
    "                              'precision':metrics.precision_score(y_test, y_pred_rfc),\n",
    "                              'recall':metrics.recall_score(y_test, y_pred_rfc),\n",
    "                              'f1':metrics.f1_score(y_test, y_pred_rfc)}"
   ]
  },
  {
   "cell_type": "markdown",
   "metadata": {},
   "source": [
    "### Voting Classifier"
   ]
  },
  {
   "cell_type": "code",
   "execution_count": 176,
   "metadata": {},
   "outputs": [
    {
     "name": "stdout",
     "output_type": "stream",
     "text": [
      "Fitting 10 folds for each of 108 candidates, totalling 1080 fits\n"
     ]
    },
    {
     "name": "stderr",
     "output_type": "stream",
     "text": [
      "[Parallel(n_jobs=-1)]: Using backend LokyBackend with 8 concurrent workers.\n",
      "[Parallel(n_jobs=-1)]: Done  56 tasks      | elapsed:    0.2s\n",
      "[Parallel(n_jobs=-1)]: Done 1080 out of 1080 | elapsed:    1.6s finished\n"
     ]
    }
   ],
   "source": [
    "voting_clf = VotingClassifier(\n",
    "                estimators=[('knn', knn), ('dtc', grid_tree), ('bagged_dtc', bc_dtc)], \n",
    "                voting='hard')\n",
    "\n",
    "voting_clf.fit(X_train, y_train)\n",
    "\n",
    "y_pred_vc = voting_clf.predict(X_test)"
   ]
  },
  {
   "cell_type": "code",
   "execution_count": 177,
   "metadata": {},
   "outputs": [],
   "source": [
    "# print(metrics.accuracy_score(y_test, y_pred_vc))\n",
    "# print(metrics.recall_score(y_test, y_pred_vc))\n",
    "# print(metrics.precision_score(y_test, y_pred_vc))\n",
    "# print(metrics.f1_score(y_test, y_pred_vc))"
   ]
  },
  {
   "cell_type": "code",
   "execution_count": 178,
   "metadata": {},
   "outputs": [],
   "source": [
    "metric_dict['VotingClassifier'] = {'accuracy': metrics.accuracy_score(y_test, y_pred_vc),\n",
    "                                  'precision':metrics.precision_score(y_test, y_pred_vc),\n",
    "                                  'recall':metrics.recall_score(y_test, y_pred_vc),\n",
    "                                  'f1':metrics.f1_score(y_test, y_pred_vc)}"
   ]
  },
  {
   "cell_type": "markdown",
   "metadata": {},
   "source": [
    "## We would rather have false negatives-- rather tell a school they aren't on track rather them saying they are and they stop pushing \n",
    "## Increase the recall (true positive rate)"
   ]
  },
  {
   "cell_type": "code",
   "execution_count": null,
   "metadata": {},
   "outputs": [],
   "source": []
  },
  {
   "cell_type": "code",
   "execution_count": 179,
   "metadata": {},
   "outputs": [
    {
     "data": {
      "text/html": [
       "<div>\n",
       "<style scoped>\n",
       "    .dataframe tbody tr th:only-of-type {\n",
       "        vertical-align: middle;\n",
       "    }\n",
       "\n",
       "    .dataframe tbody tr th {\n",
       "        vertical-align: top;\n",
       "    }\n",
       "\n",
       "    .dataframe thead th {\n",
       "        text-align: right;\n",
       "    }\n",
       "</style>\n",
       "<table border=\"1\" class=\"dataframe\">\n",
       "  <thead>\n",
       "    <tr style=\"text-align: right;\">\n",
       "      <th></th>\n",
       "      <th>accuracy</th>\n",
       "      <th>precision</th>\n",
       "      <th>recall</th>\n",
       "      <th>f1</th>\n",
       "    </tr>\n",
       "  </thead>\n",
       "  <tbody>\n",
       "    <tr>\n",
       "      <th>LogisticRegression</th>\n",
       "      <td>0.391534</td>\n",
       "      <td>0.281879</td>\n",
       "      <td>0.84</td>\n",
       "      <td>0.422111</td>\n",
       "    </tr>\n",
       "    <tr>\n",
       "      <th>KNN</th>\n",
       "      <td>0.846561</td>\n",
       "      <td>0.862069</td>\n",
       "      <td>0.50</td>\n",
       "      <td>0.632911</td>\n",
       "    </tr>\n",
       "    <tr>\n",
       "      <th>DecisionTree</th>\n",
       "      <td>0.804233</td>\n",
       "      <td>0.638298</td>\n",
       "      <td>0.60</td>\n",
       "      <td>0.618557</td>\n",
       "    </tr>\n",
       "    <tr>\n",
       "      <th>BaggedDecisionTree</th>\n",
       "      <td>0.878307</td>\n",
       "      <td>0.775510</td>\n",
       "      <td>0.76</td>\n",
       "      <td>0.767677</td>\n",
       "    </tr>\n",
       "    <tr>\n",
       "      <th>RandomForest</th>\n",
       "      <td>0.857143</td>\n",
       "      <td>0.794872</td>\n",
       "      <td>0.62</td>\n",
       "      <td>0.696629</td>\n",
       "    </tr>\n",
       "    <tr>\n",
       "      <th>VotingClassifier</th>\n",
       "      <td>0.862434</td>\n",
       "      <td>0.815789</td>\n",
       "      <td>0.62</td>\n",
       "      <td>0.704545</td>\n",
       "    </tr>\n",
       "  </tbody>\n",
       "</table>\n",
       "</div>"
      ],
      "text/plain": [
       "                    accuracy  precision  recall        f1\n",
       "LogisticRegression  0.391534   0.281879    0.84  0.422111\n",
       "KNN                 0.846561   0.862069    0.50  0.632911\n",
       "DecisionTree        0.804233   0.638298    0.60  0.618557\n",
       "BaggedDecisionTree  0.878307   0.775510    0.76  0.767677\n",
       "RandomForest        0.857143   0.794872    0.62  0.696629\n",
       "VotingClassifier    0.862434   0.815789    0.62  0.704545"
      ]
     },
     "execution_count": 179,
     "metadata": {},
     "output_type": "execute_result"
    }
   ],
   "source": [
    "pd.DataFrame.from_dict(metric_dict, orient='index')"
   ]
  },
  {
   "cell_type": "markdown",
   "metadata": {},
   "source": [
    "## Class Imbalance tools \n",
    "## Combining XGBoost with GridSearch"
   ]
  },
  {
   "cell_type": "code",
   "execution_count": 180,
   "metadata": {},
   "outputs": [],
   "source": [
    "# if it is bagged is it still highly interpretable\n",
    "# should we only focus on one model"
   ]
  },
  {
   "cell_type": "code",
   "execution_count": null,
   "metadata": {},
   "outputs": [],
   "source": []
  }
 ],
 "metadata": {
  "kernelspec": {
   "display_name": "Python 3",
   "language": "python",
   "name": "python3"
  },
  "language_info": {
   "codemirror_mode": {
    "name": "ipython",
    "version": 3
   },
   "file_extension": ".py",
   "mimetype": "text/x-python",
   "name": "python",
   "nbconvert_exporter": "python",
   "pygments_lexer": "ipython3",
   "version": "3.6.9"
  }
 },
 "nbformat": 4,
 "nbformat_minor": 4
}
