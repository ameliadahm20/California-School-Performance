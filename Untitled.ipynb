{
 "cells": [
  {
   "cell_type": "code",
   "execution_count": 1,
   "metadata": {},
   "outputs": [
    {
     "ename": "SyntaxError",
     "evalue": "invalid syntax (<ipython-input-1-15eb09bd3f57>, line 58)",
     "output_type": "error",
     "traceback": [
      "\u001b[0;36m  File \u001b[0;32m\"<ipython-input-1-15eb09bd3f57>\"\u001b[0;36m, line \u001b[0;32m58\u001b[0m\n\u001b[0;31m    df.drop(columns=['OBJECTID', 'FedID', 'CDCode', 'CDSCode', 'UpdateNotes', 'AfricanAmerican', 'AmericanIndian', 'Asian', 'Filipino', 'Hispanic', 'MultipleRace', 'PacificIslander', 'White', 'RaceNotReported', 'EnglishLearner', 'Foster', 'Homeless', 'Migrant', 'Disability', 'SocioEconDisadvantage', 'MathTested', 'MathStdMetPct', 'CCPrepCohortCount', 'AbsentEligCount', 'GradCohortCount', 'GradeLowCensus', 'GradeHighCensus'], inplace=False)\u001b[0m\n\u001b[0m     ^\u001b[0m\n\u001b[0;31mSyntaxError\u001b[0m\u001b[0;31m:\u001b[0m invalid syntax\n"
     ]
    }
   ],
   "source": [
    "\n",
    "def dataprep(df):\n",
    "      \n",
    "    \n",
    "    df['smallenrollment'] = np.where(\n",
    "                            df['EnrollTotal'] <= df['EnrollTotal'].quantile(0.25), 1, 0)\n",
    "    \n",
    "    df['mediumenrollment'] = np.where(\n",
    "                            ((df['EnrollTotal'] > df['EnrollTotal'].quantile(0.25)) & \n",
    "                            (df['EnrollTotal'] <= df['EnrollTotal'].quantile(0.5))), 1, 0)\n",
    "    df['largeenrollment'] = np.where(\n",
    "                            ((df['EnrollTotal'] > df['EnrollTotal'].quantile(0.5)) & \n",
    "                             (df['EnrollTotal'] <= df['EnrollTotal'].quantile(0.75))), 1, 0)\n",
    "    df['xlenrollment'] = np.where(\n",
    "                        (df['EnrollTotal'] > df['EnrollTotal'].quantile(0.75)), 1, 0)\n",
    "    \n",
    "    \n",
    "    #convert charter school enrollment into percentages of total enrollment\n",
    "    df['charterpct'] = df['EnrollCharter'] / df['EnrollTotal'] * 100\n",
    "    df['noncharterpct'] = df['EnrollNonCharter'] / df['EnrollTotal'] * 100\n",
    "    \n",
    "    #convert the type of district into dummy variables\n",
    "    df['unified'] = np.where(df['SchoolType'] == 'Unified', 1, 0)\n",
    "    df['elem'] = np.where(df['SchoolType'] == 'Elementary', 1, 0)\n",
    "    df['high'] = np.where(df['SchoolType'] == 'High', 1, 0)\n",
    "    \n",
    "    #group locale district types by classification and create dummy variables\n",
    "    df['LocaleDistrict'] = [ x[:2] for x in df['LocaleDistrict']]\n",
    "    df['suburban'] = np.where(\n",
    "                            ((df['LocaleDistrict'] == '21') | \n",
    "                            (df['LocaleDistrict'] == '23')), 1, 0)\n",
    "    \n",
    "    df['rural'] = np.where(\n",
    "                    ((df['LocaleDistrict'] == '41') | \n",
    "                     (df['LocaleDistrict'] == '42') | \n",
    "                     (df['LocaleDistrict'] == '43')), 1, 0)\n",
    "    \n",
    "    df['town'] = np.where(\n",
    "                    ((df['LocaleDistrict'] == '32') | \n",
    "                     (df['LocaleDistrict'] == '33')), 1, 0)\n",
    "    df['city'] = np.where(\n",
    "                    ((df['LocaleDistrict'] == '12') | \n",
    "                     (df['LocaleDistrict'] == '11') | \n",
    "                     (df['LocaleDistrict'] == '13')), 1, 0)\n",
    "    \n",
    "    #create dummy variable for government assistance\n",
    "    df['assistance'] = np.where(df['AssistStatus'] == 'Differentiated Assistance', 1, 0)\n",
    "    \n",
    "    #create target variable by binning using the 75% quantile value\n",
    "    df['target'] = np.where(df.ELAStdMetPct >= 61.225, 1, 0)\n",
    "    \n",
    "    #drop all columns that have been used to create dummies or other variables\n",
    "    df.drop(columns = \n",
    "            ['EnrollTotal', 'EnrollCharter', 'EnrollNonCharter', 'SchoolType', 'AssistStatus', 'ELATested', 'ELAStdMetPct'],\n",
    "            inplace = False\n",
    "    \n",
    "    #drop columns that will not be used or are repetitive \n",
    "    df.drop(columns=['OBJECTID', 'FedID', 'CDCode', 'CDSCode', 'UpdateNotes', 'AfricanAmerican', 'AmericanIndian', 'Asian', 'Filipino', 'Hispanic', 'MultipleRace', 'PacificIslander', 'White', 'RaceNotReported', 'EnglishLearner', 'Foster', 'Homeless', 'Migrant', 'Disability', 'SocioEconDisadvantage', 'MathTested', 'MathStdMetPct', 'CCPrepCohortCount', 'AbsentEligCount', 'GradCohortCount', 'GradeLowCensus', 'GradeHighCensus'], inplace=False)\n",
    "    \n",
    "\n",
    "            return df"
   ]
  },
  {
   "cell_type": "code",
   "execution_count": null,
   "metadata": {},
   "outputs": [],
   "source": []
  }
 ],
 "metadata": {
  "kernelspec": {
   "display_name": "learn-env",
   "language": "python",
   "name": "learn-env"
  },
  "language_info": {
   "codemirror_mode": {
    "name": "ipython",
    "version": 3
   },
   "file_extension": ".py",
   "mimetype": "text/x-python",
   "name": "python",
   "nbconvert_exporter": "python",
   "pygments_lexer": "ipython3",
   "version": "3.6.9"
  }
 },
 "nbformat": 4,
 "nbformat_minor": 4
}
